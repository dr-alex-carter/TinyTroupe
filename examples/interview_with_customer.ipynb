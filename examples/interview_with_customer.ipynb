{
 "cells": [
  {
   "cell_type": "markdown",
   "metadata": {},
   "source": [
    "# Interview with customers\n",
    "\n",
    "What if we could interview our precise target audience synthetically?\n"
   ]
  },
  {
   "cell_type": "code",
   "execution_count": 1,
   "metadata": {},
   "outputs": [
    {
     "name": "stdout",
     "output_type": "stream",
     "text": [
      "Failed to find custom config on: c:\\Users\\pdasilva\\OneDrive - Microsoft\\Git repositories\\tinytroupe\\notebooks\\config.ini\n",
      "Now switching to default config file...\n",
      "Looking for config on: c:\\Users\\pdasilva\\AppData\\Local\\anaconda3\\envs\\py310\\lib\\site-packages\\tinytroupe\\config.ini\n"
     ]
    }
   ],
   "source": [
    "import json\n",
    "import sys\n",
    "sys.path.append('..')\n",
    "\n",
    "import tinytroupe\n",
    "from tinytroupe.agent import TinyPerson\n",
    "from tinytroupe.environment import TinyWorld, TinySocialNetwork\n",
    "from tinytroupe.personfactory import TinyPersonFactory\n",
    "from tinytroupe.extraction import default_extractor as extractor\n",
    "from tinytroupe.extraction import InteractionResultsReducer\n",
    "import tinytroupe.control as control"
   ]
  },
  {
   "cell_type": "markdown",
   "metadata": {},
   "source": [
    "Let's create the specific types of agents we need to collect data."
   ]
  },
  {
   "cell_type": "code",
   "execution_count": 2,
   "metadata": {},
   "outputs": [],
   "source": [
    "factory = TinyPersonFactory(\n",
    "    \"\"\"\n",
    "    A vice-president of one of the largest brazillian banks. Has a degree in engineering and a MBA in finance. \n",
    "    Is facing a lot of pressure from the board of directors to fight off the competition from the fintechs.    \n",
    "    \"\"\")\n",
    "\n",
    "customer = factory.generate_person()"
   ]
  },
  {
   "cell_type": "code",
   "execution_count": 3,
   "metadata": {},
   "outputs": [
    {
     "data": {
      "text/plain": [
       "'Marcela Ferreira is a 47 year old Vice-President of Finance from Brazil.'"
      ]
     },
     "execution_count": 3,
     "metadata": {},
     "output_type": "execute_result"
    }
   ],
   "source": [
    "customer.minibio()"
   ]
  },
  {
   "cell_type": "markdown",
   "metadata": {},
   "source": [
    "We can now perform the interview."
   ]
  },
  {
   "cell_type": "code",
   "execution_count": 4,
   "metadata": {},
   "outputs": [
    {
     "data": {
      "text/html": [
       "<pre style=\"margin:0px;;white-space:pre;overflow-x:auto;line-height:normal;font-family:Menlo,'DejaVu Sans Mono',consolas,'Courier New',monospace\"><span style=\"color: #7fffff; text-decoration-color: #7fffff; font-style: italic; text-decoration: underline\">Marcela Ferreira</span><span style=\"color: #7fffff; text-decoration-color: #7fffff; font-style: italic\"> --&gt; </span><span style=\"color: #7fffff; text-decoration-color: #7fffff; font-style: italic; text-decoration: underline\">Marcela Ferreira</span><span style=\"color: #7fffff; text-decoration-color: #7fffff; font-style: italic\">: </span><span style=\"color: #7fffff; text-decoration-color: #7fffff; font-weight: bold; font-style: italic\">[</span><span style=\"color: #7fffff; text-decoration-color: #7fffff; font-style: italic\">THOUGHT</span><span style=\"color: #7fffff; text-decoration-color: #7fffff; font-weight: bold; font-style: italic\">]</span><span style=\"color: #7fffff; text-decoration-color: #7fffff; font-style: italic\"> I am now talking to a business and technology consultant to help </span>\n",
       "<span style=\"color: #7fffff; text-decoration-color: #7fffff; font-style: italic\">me with my</span>\n",
       "<span style=\"color: #7fffff; text-decoration-color: #7fffff; font-style: italic\">                              &gt; professional problems.</span>\n",
       "</pre>\n"
      ],
      "text/plain": [
       "\u001b[2;3;4;38;5;51mMarcela Ferreira\u001b[0m\u001b[2;3;38;5;51m --> \u001b[0m\u001b[2;3;4;38;5;51mMarcela Ferreira\u001b[0m\u001b[2;3;38;5;51m: \u001b[0m\u001b[1;2;3;38;5;51m[\u001b[0m\u001b[2;3;38;5;51mTHOUGHT\u001b[0m\u001b[1;2;3;38;5;51m]\u001b[0m\u001b[2;3;38;5;51m I am now talking to a business and technology consultant to help \u001b[0m\n",
       "\u001b[2;3;38;5;51mme with my\u001b[0m\n",
       "\u001b[2;3;38;5;51m                              > professional problems.\u001b[0m\n"
      ]
     },
     "metadata": {},
     "output_type": "display_data"
    },
    {
     "data": {
      "text/plain": [
       "TinyPerson(name='Marcela Ferreira')"
      ]
     },
     "execution_count": 4,
     "metadata": {},
     "output_type": "execute_result"
    }
   ],
   "source": [
    "customer.think(\"I am now talking to a business and technology consultant to help me with my professional problems.\")"
   ]
  },
  {
   "cell_type": "code",
   "execution_count": 5,
   "metadata": {},
   "outputs": [
    {
     "data": {
      "text/html": [
       "<pre style=\"margin:0px;;white-space:pre;overflow-x:auto;line-height:normal;font-family:Menlo,'DejaVu Sans Mono',consolas,'Courier New',monospace\"><span style=\"color: #00ffff; text-decoration-color: #00ffff; font-weight: bold; font-style: italic; text-decoration: underline\">USER</span><span style=\"color: #00ffff; text-decoration-color: #00ffff; font-weight: bold; font-style: italic\"> --&gt; </span><span style=\"color: #00ffff; text-decoration-color: #00ffff; font-weight: bold; font-style: italic; text-decoration: underline\">Marcela Ferreira</span><span style=\"color: #00ffff; text-decoration-color: #00ffff; font-weight: bold; font-style: italic\">: [CONVERSATION] What would you say are your main problems today? Please be as specific as</span>\n",
       "<span style=\"color: #00ffff; text-decoration-color: #00ffff; font-weight: bold; font-style: italic\">                  &gt; possible.</span>\n",
       "</pre>\n"
      ],
      "text/plain": [
       "\u001b[1;3;4;38;5;51mUSER\u001b[0m\u001b[1;3;38;5;51m --> \u001b[0m\u001b[1;3;4;38;5;51mMarcela Ferreira\u001b[0m\u001b[1;3;38;5;51m: \u001b[0m\u001b[1;3;38;5;51m[\u001b[0m\u001b[1;3;38;5;51mCONVERSATION\u001b[0m\u001b[1;3;38;5;51m]\u001b[0m\u001b[1;3;38;5;51m What would you say are your main problems today? Please be as specific as\u001b[0m\n",
       "\u001b[1;3;38;5;51m                  > possible.\u001b[0m\n"
      ]
     },
     "metadata": {},
     "output_type": "display_data"
    },
    {
     "data": {
      "text/html": [
       "<pre style=\"margin:0px;;white-space:pre;overflow-x:auto;line-height:normal;font-family:Menlo,'DejaVu Sans Mono',consolas,'Courier New',monospace\"><span style=\"color: #7fffff; text-decoration-color: #7fffff; font-style: italic; text-decoration: underline\">Marcela Ferreira</span><span style=\"color: #7fffff; text-decoration-color: #7fffff; font-style: italic\"> --&gt; </span><span style=\"color: #7fffff; text-decoration-color: #7fffff; font-style: italic; text-decoration: underline\">Marcela Ferreira</span><span style=\"color: #7fffff; text-decoration-color: #7fffff; font-style: italic\">: </span><span style=\"color: #7fffff; text-decoration-color: #7fffff; font-weight: bold; font-style: italic\">[</span><span style=\"color: #7fffff; text-decoration-color: #7fffff; font-style: italic\">THOUGHT</span><span style=\"color: #7fffff; text-decoration-color: #7fffff; font-weight: bold; font-style: italic\">]</span><span style=\"color: #7fffff; text-decoration-color: #7fffff; font-style: italic\"> I will now act a bit, and then issue DONE.</span>\n",
       "</pre>\n"
      ],
      "text/plain": [
       "\u001b[2;3;4;38;5;51mMarcela Ferreira\u001b[0m\u001b[2;3;38;5;51m --> \u001b[0m\u001b[2;3;4;38;5;51mMarcela Ferreira\u001b[0m\u001b[2;3;38;5;51m: \u001b[0m\u001b[1;2;3;38;5;51m[\u001b[0m\u001b[2;3;38;5;51mTHOUGHT\u001b[0m\u001b[1;2;3;38;5;51m]\u001b[0m\u001b[2;3;38;5;51m I will now act a bit, and then issue DONE.\u001b[0m\n"
      ]
     },
     "metadata": {},
     "output_type": "display_data"
    },
    {
     "data": {
      "text/html": [
       "<pre style=\"margin:0px;;white-space:pre;overflow-x:auto;line-height:normal;font-family:Menlo,'DejaVu Sans Mono',consolas,'Courier New',monospace\"><span style=\"color: #008000; text-decoration-color: #008000; text-decoration: underline\">Marcela Ferreira</span><span style=\"color: #008000; text-decoration-color: #008000\"> acts: </span><span style=\"color: #008000; text-decoration-color: #008000; font-weight: bold\">[</span><span style=\"color: #008000; text-decoration-color: #008000\">THINK</span><span style=\"color: #008000; text-decoration-color: #008000; font-weight: bold\">]</span><span style=\"color: #008000; text-decoration-color: #008000\"> The main challenges I'm facing are developing strategies to compete with fintech</span>\n",
       "<span style=\"color: #008000; text-decoration-color: #008000\">                              &gt; companies and ensuring regulatory compliance</span>\n",
       "<span style=\"color: #008000; text-decoration-color: #008000\">                              &gt; while managing risks.</span>\n",
       "</pre>\n"
      ],
      "text/plain": [
       "\u001b[4;32mMarcela Ferreira\u001b[0m\u001b[32m acts: \u001b[0m\u001b[1;32m[\u001b[0m\u001b[32mTHINK\u001b[0m\u001b[1;32m]\u001b[0m\u001b[32m The main challenges I'm facing are developing strategies to compete with fintech\u001b[0m\n",
       "\u001b[32m                              > companies and ensuring regulatory compliance\u001b[0m\n",
       "\u001b[32m                              > while managing risks.\u001b[0m\n"
      ]
     },
     "metadata": {},
     "output_type": "display_data"
    },
    {
     "data": {
      "text/html": [
       "<pre style=\"margin:0px;;white-space:pre;overflow-x:auto;line-height:normal;font-family:Menlo,'DejaVu Sans Mono',consolas,'Courier New',monospace\"><span style=\"color: #7fffff; text-decoration-color: #7fffff; font-style: italic; text-decoration: underline\">Marcela Ferreira</span><span style=\"color: #7fffff; text-decoration-color: #7fffff; font-style: italic\"> --&gt; </span><span style=\"color: #7fffff; text-decoration-color: #7fffff; font-style: italic; text-decoration: underline\">Marcela Ferreira</span><span style=\"color: #7fffff; text-decoration-color: #7fffff; font-style: italic\">: </span><span style=\"color: #7fffff; text-decoration-color: #7fffff; font-weight: bold; font-style: italic\">[</span><span style=\"color: #7fffff; text-decoration-color: #7fffff; font-style: italic\">THOUGHT</span><span style=\"color: #7fffff; text-decoration-color: #7fffff; font-weight: bold; font-style: italic\">]</span><span style=\"color: #7fffff; text-decoration-color: #7fffff; font-style: italic\"> I will now act a bit, and then issue DONE.</span>\n",
       "</pre>\n"
      ],
      "text/plain": [
       "\u001b[2;3;4;38;5;51mMarcela Ferreira\u001b[0m\u001b[2;3;38;5;51m --> \u001b[0m\u001b[2;3;4;38;5;51mMarcela Ferreira\u001b[0m\u001b[2;3;38;5;51m: \u001b[0m\u001b[1;2;3;38;5;51m[\u001b[0m\u001b[2;3;38;5;51mTHOUGHT\u001b[0m\u001b[1;2;3;38;5;51m]\u001b[0m\u001b[2;3;38;5;51m I will now act a bit, and then issue DONE.\u001b[0m\n"
      ]
     },
     "metadata": {},
     "output_type": "display_data"
    },
    {
     "data": {
      "text/html": [
       "<pre style=\"margin:0px;;white-space:pre;overflow-x:auto;line-height:normal;font-family:Menlo,'DejaVu Sans Mono',consolas,'Courier New',monospace\"><span style=\"color: #00d700; text-decoration-color: #00d700; font-weight: bold; text-decoration: underline\">Marcela Ferreira</span><span style=\"color: #00d700; text-decoration-color: #00d700; font-weight: bold\"> acts: [TALK] Our main problems revolve around the need to innovate to keep up with fintech</span>\n",
       "<span style=\"color: #00d700; text-decoration-color: #00d700; font-weight: bold\">                              &gt; competitors who are disrupting the traditional</span>\n",
       "<span style=\"color: #00d700; text-decoration-color: #00d700; font-weight: bold\">                              &gt; banking model. We're also focusing on</span>\n",
       "<span style=\"color: #00d700; text-decoration-color: #00d700; font-weight: bold\">                              &gt; maintaining strict regulatory compliance and</span>\n",
       "<span style=\"color: #00d700; text-decoration-color: #00d700; font-weight: bold\">                              &gt; managing risks effectively to ensure the bank's</span>\n",
       "<span style=\"color: #00d700; text-decoration-color: #00d700; font-weight: bold\">                              &gt; profitability and sustainability.</span>\n",
       "</pre>\n"
      ],
      "text/plain": [
       "\u001b[1;4;38;5;40mMarcela Ferreira\u001b[0m\u001b[1;38;5;40m acts: \u001b[0m\u001b[1;38;5;40m[\u001b[0m\u001b[1;38;5;40mTALK\u001b[0m\u001b[1;38;5;40m]\u001b[0m\u001b[1;38;5;40m Our main problems revolve around the need to innovate to keep up with fintech\u001b[0m\n",
       "\u001b[1;38;5;40m                              > competitors who are disrupting the traditional\u001b[0m\n",
       "\u001b[1;38;5;40m                              > banking model. We're also focusing on\u001b[0m\n",
       "\u001b[1;38;5;40m                              > maintaining strict regulatory compliance and\u001b[0m\n",
       "\u001b[1;38;5;40m                              > managing risks effectively to ensure the bank's\u001b[0m\n",
       "\u001b[1;38;5;40m                              > profitability and sustainability.\u001b[0m\n"
      ]
     },
     "metadata": {},
     "output_type": "display_data"
    },
    {
     "data": {
      "text/html": [
       "<pre style=\"margin:0px;;white-space:pre;overflow-x:auto;line-height:normal;font-family:Menlo,'DejaVu Sans Mono',consolas,'Courier New',monospace\"><span style=\"color: #7fffff; text-decoration-color: #7fffff; font-style: italic; text-decoration: underline\">Marcela Ferreira</span><span style=\"color: #7fffff; text-decoration-color: #7fffff; font-style: italic\"> --&gt; </span><span style=\"color: #7fffff; text-decoration-color: #7fffff; font-style: italic; text-decoration: underline\">Marcela Ferreira</span><span style=\"color: #7fffff; text-decoration-color: #7fffff; font-style: italic\">: </span><span style=\"color: #7fffff; text-decoration-color: #7fffff; font-weight: bold; font-style: italic\">[</span><span style=\"color: #7fffff; text-decoration-color: #7fffff; font-style: italic\">THOUGHT</span><span style=\"color: #7fffff; text-decoration-color: #7fffff; font-weight: bold; font-style: italic\">]</span><span style=\"color: #7fffff; text-decoration-color: #7fffff; font-style: italic\"> I will now act a bit, and then issue DONE.</span>\n",
       "</pre>\n"
      ],
      "text/plain": [
       "\u001b[2;3;4;38;5;51mMarcela Ferreira\u001b[0m\u001b[2;3;38;5;51m --> \u001b[0m\u001b[2;3;4;38;5;51mMarcela Ferreira\u001b[0m\u001b[2;3;38;5;51m: \u001b[0m\u001b[1;2;3;38;5;51m[\u001b[0m\u001b[2;3;38;5;51mTHOUGHT\u001b[0m\u001b[1;2;3;38;5;51m]\u001b[0m\u001b[2;3;38;5;51m I will now act a bit, and then issue DONE.\u001b[0m\n"
      ]
     },
     "metadata": {},
     "output_type": "display_data"
    },
    {
     "data": {
      "text/html": [
       "<pre style=\"margin:0px;;white-space:pre;overflow-x:auto;line-height:normal;font-family:Menlo,'DejaVu Sans Mono',consolas,'Courier New',monospace\"><span style=\"color: #d0d0d0; text-decoration-color: #d0d0d0; text-decoration: underline\">Marcela Ferreira</span><span style=\"color: #d0d0d0; text-decoration-color: #d0d0d0\"> acts: </span><span style=\"color: #d0d0d0; text-decoration-color: #d0d0d0; font-weight: bold\">[</span><span style=\"color: #d0d0d0; text-decoration-color: #d0d0d0\">DONE</span><span style=\"color: #d0d0d0; text-decoration-color: #d0d0d0; font-weight: bold\">]</span><span style=\"color: #d0d0d0; text-decoration-color: #d0d0d0\"> </span>\n",
       "</pre>\n"
      ],
      "text/plain": [
       "\u001b[4;38;5;252mMarcela Ferreira\u001b[0m\u001b[38;5;252m acts: \u001b[0m\u001b[1;38;5;252m[\u001b[0m\u001b[38;5;252mDONE\u001b[0m\u001b[1;38;5;252m]\u001b[0m\u001b[38;5;252m \u001b[0m\n"
      ]
     },
     "metadata": {},
     "output_type": "display_data"
    }
   ],
   "source": [
    "customer.listen_and_act(\"What would you say are your main problems today? Please be as specific as possible.\", max_content_length=3000)"
   ]
  },
  {
   "cell_type": "code",
   "execution_count": 6,
   "metadata": {},
   "outputs": [
    {
     "data": {
      "text/html": [
       "<pre style=\"margin:0px;;white-space:pre;overflow-x:auto;line-height:normal;font-family:Menlo,'DejaVu Sans Mono',consolas,'Courier New',monospace\"><span style=\"color: #00ffff; text-decoration-color: #00ffff; font-weight: bold; font-style: italic; text-decoration: underline\">USER</span><span style=\"color: #00ffff; text-decoration-color: #00ffff; font-weight: bold; font-style: italic\"> --&gt; </span><span style=\"color: #00ffff; text-decoration-color: #00ffff; font-weight: bold; font-style: italic; text-decoration: underline\">Marcela Ferreira</span><span style=\"color: #00ffff; text-decoration-color: #00ffff; font-weight: bold; font-style: italic\">: [CONVERSATION] Can you elaborate on the fintechs?</span>\n",
       "</pre>\n"
      ],
      "text/plain": [
       "\u001b[1;3;4;38;5;51mUSER\u001b[0m\u001b[1;3;38;5;51m --> \u001b[0m\u001b[1;3;4;38;5;51mMarcela Ferreira\u001b[0m\u001b[1;3;38;5;51m: \u001b[0m\u001b[1;3;38;5;51m[\u001b[0m\u001b[1;3;38;5;51mCONVERSATION\u001b[0m\u001b[1;3;38;5;51m]\u001b[0m\u001b[1;3;38;5;51m Can you elaborate on the fintechs?\u001b[0m\n"
      ]
     },
     "metadata": {},
     "output_type": "display_data"
    },
    {
     "data": {
      "text/html": [
       "<pre style=\"margin:0px;;white-space:pre;overflow-x:auto;line-height:normal;font-family:Menlo,'DejaVu Sans Mono',consolas,'Courier New',monospace\"><span style=\"color: #7fffff; text-decoration-color: #7fffff; font-style: italic; text-decoration: underline\">Marcela Ferreira</span><span style=\"color: #7fffff; text-decoration-color: #7fffff; font-style: italic\"> --&gt; </span><span style=\"color: #7fffff; text-decoration-color: #7fffff; font-style: italic; text-decoration: underline\">Marcela Ferreira</span><span style=\"color: #7fffff; text-decoration-color: #7fffff; font-style: italic\">: </span><span style=\"color: #7fffff; text-decoration-color: #7fffff; font-weight: bold; font-style: italic\">[</span><span style=\"color: #7fffff; text-decoration-color: #7fffff; font-style: italic\">THOUGHT</span><span style=\"color: #7fffff; text-decoration-color: #7fffff; font-weight: bold; font-style: italic\">]</span><span style=\"color: #7fffff; text-decoration-color: #7fffff; font-style: italic\"> I will now act a bit, and then issue DONE.</span>\n",
       "</pre>\n"
      ],
      "text/plain": [
       "\u001b[2;3;4;38;5;51mMarcela Ferreira\u001b[0m\u001b[2;3;38;5;51m --> \u001b[0m\u001b[2;3;4;38;5;51mMarcela Ferreira\u001b[0m\u001b[2;3;38;5;51m: \u001b[0m\u001b[1;2;3;38;5;51m[\u001b[0m\u001b[2;3;38;5;51mTHOUGHT\u001b[0m\u001b[1;2;3;38;5;51m]\u001b[0m\u001b[2;3;38;5;51m I will now act a bit, and then issue DONE.\u001b[0m\n"
      ]
     },
     "metadata": {},
     "output_type": "display_data"
    },
    {
     "data": {
      "text/html": [
       "<pre style=\"margin:0px;;white-space:pre;overflow-x:auto;line-height:normal;font-family:Menlo,'DejaVu Sans Mono',consolas,'Courier New',monospace\"><span style=\"color: #008000; text-decoration-color: #008000; text-decoration: underline\">Marcela Ferreira</span><span style=\"color: #008000; text-decoration-color: #008000\"> acts: </span><span style=\"color: #008000; text-decoration-color: #008000; font-weight: bold\">[</span><span style=\"color: #008000; text-decoration-color: #008000\">THINK</span><span style=\"color: #008000; text-decoration-color: #008000; font-weight: bold\">]</span><span style=\"color: #008000; text-decoration-color: #008000\"> Fintech companies are using technology to offer financial services in more</span>\n",
       "<span style=\"color: #008000; text-decoration-color: #008000\">                              &gt; efficient and user-friendly ways, which attracts</span>\n",
       "<span style=\"color: #008000; text-decoration-color: #008000\">                              &gt; our traditional customer base. They often</span>\n",
       "<span style=\"color: #008000; text-decoration-color: #008000\">                              &gt; operate with lower overhead and can be more</span>\n",
       "<span style=\"color: #008000; text-decoration-color: #008000\">                              &gt; agile in their operations and offerings.</span>\n",
       "</pre>\n"
      ],
      "text/plain": [
       "\u001b[4;32mMarcela Ferreira\u001b[0m\u001b[32m acts: \u001b[0m\u001b[1;32m[\u001b[0m\u001b[32mTHINK\u001b[0m\u001b[1;32m]\u001b[0m\u001b[32m Fintech companies are using technology to offer financial services in more\u001b[0m\n",
       "\u001b[32m                              > efficient and user-friendly ways, which attracts\u001b[0m\n",
       "\u001b[32m                              > our traditional customer base. They often\u001b[0m\n",
       "\u001b[32m                              > operate with lower overhead and can be more\u001b[0m\n",
       "\u001b[32m                              > agile in their operations and offerings.\u001b[0m\n"
      ]
     },
     "metadata": {},
     "output_type": "display_data"
    },
    {
     "data": {
      "text/html": [
       "<pre style=\"margin:0px;;white-space:pre;overflow-x:auto;line-height:normal;font-family:Menlo,'DejaVu Sans Mono',consolas,'Courier New',monospace\"><span style=\"color: #7fffff; text-decoration-color: #7fffff; font-style: italic; text-decoration: underline\">Marcela Ferreira</span><span style=\"color: #7fffff; text-decoration-color: #7fffff; font-style: italic\"> --&gt; </span><span style=\"color: #7fffff; text-decoration-color: #7fffff; font-style: italic; text-decoration: underline\">Marcela Ferreira</span><span style=\"color: #7fffff; text-decoration-color: #7fffff; font-style: italic\">: </span><span style=\"color: #7fffff; text-decoration-color: #7fffff; font-weight: bold; font-style: italic\">[</span><span style=\"color: #7fffff; text-decoration-color: #7fffff; font-style: italic\">THOUGHT</span><span style=\"color: #7fffff; text-decoration-color: #7fffff; font-weight: bold; font-style: italic\">]</span><span style=\"color: #7fffff; text-decoration-color: #7fffff; font-style: italic\"> I will now act a bit, and then issue DONE.</span>\n",
       "</pre>\n"
      ],
      "text/plain": [
       "\u001b[2;3;4;38;5;51mMarcela Ferreira\u001b[0m\u001b[2;3;38;5;51m --> \u001b[0m\u001b[2;3;4;38;5;51mMarcela Ferreira\u001b[0m\u001b[2;3;38;5;51m: \u001b[0m\u001b[1;2;3;38;5;51m[\u001b[0m\u001b[2;3;38;5;51mTHOUGHT\u001b[0m\u001b[1;2;3;38;5;51m]\u001b[0m\u001b[2;3;38;5;51m I will now act a bit, and then issue DONE.\u001b[0m\n"
      ]
     },
     "metadata": {},
     "output_type": "display_data"
    },
    {
     "data": {
      "text/html": [
       "<pre style=\"margin:0px;;white-space:pre;overflow-x:auto;line-height:normal;font-family:Menlo,'DejaVu Sans Mono',consolas,'Courier New',monospace\"><span style=\"color: #00d700; text-decoration-color: #00d700; font-weight: bold; text-decoration: underline\">Marcela Ferreira</span><span style=\"color: #00d700; text-decoration-color: #00d700; font-weight: bold\"> acts: [TALK] Fintechs are leveraging cutting-edge technologies to streamline financial</span>\n",
       "<span style=\"color: #00d700; text-decoration-color: #00d700; font-weight: bold\">                              &gt; services, making them more accessible and often</span>\n",
       "<span style=\"color: #00d700; text-decoration-color: #00d700; font-weight: bold\">                              &gt; at a lower cost than traditional banks. They</span>\n",
       "<span style=\"color: #00d700; text-decoration-color: #00d700; font-weight: bold\">                              &gt; excel in customer experience and innovation,</span>\n",
       "<span style=\"color: #00d700; text-decoration-color: #00d700; font-weight: bold\">                              &gt; often outpacing us in areas like mobile banking,</span>\n",
       "<span style=\"color: #00d700; text-decoration-color: #00d700; font-weight: bold\">                              &gt; peer-to-peer payments, and personalized</span>\n",
       "<span style=\"color: #00d700; text-decoration-color: #00d700; font-weight: bold\">                              &gt; financial advice. Their agility and lack of</span>\n",
       "<span style=\"color: #00d700; text-decoration-color: #00d700; font-weight: bold\">                              &gt; legacy systems allow them to adapt quickly to</span>\n",
       "<span style=\"color: #00d700; text-decoration-color: #00d700; font-weight: bold\">                              &gt; market changes and customer needs.</span>\n",
       "</pre>\n"
      ],
      "text/plain": [
       "\u001b[1;4;38;5;40mMarcela Ferreira\u001b[0m\u001b[1;38;5;40m acts: \u001b[0m\u001b[1;38;5;40m[\u001b[0m\u001b[1;38;5;40mTALK\u001b[0m\u001b[1;38;5;40m]\u001b[0m\u001b[1;38;5;40m Fintechs are leveraging cutting-edge technologies to streamline financial\u001b[0m\n",
       "\u001b[1;38;5;40m                              > services, making them more accessible and often\u001b[0m\n",
       "\u001b[1;38;5;40m                              > at a lower cost than traditional banks. They\u001b[0m\n",
       "\u001b[1;38;5;40m                              > excel in customer experience and innovation,\u001b[0m\n",
       "\u001b[1;38;5;40m                              > often outpacing us in areas like mobile banking,\u001b[0m\n",
       "\u001b[1;38;5;40m                              > peer-to-peer payments, and personalized\u001b[0m\n",
       "\u001b[1;38;5;40m                              > financial advice. Their agility and lack of\u001b[0m\n",
       "\u001b[1;38;5;40m                              > legacy systems allow them to adapt quickly to\u001b[0m\n",
       "\u001b[1;38;5;40m                              > market changes and customer needs.\u001b[0m\n"
      ]
     },
     "metadata": {},
     "output_type": "display_data"
    },
    {
     "data": {
      "text/html": [
       "<pre style=\"margin:0px;;white-space:pre;overflow-x:auto;line-height:normal;font-family:Menlo,'DejaVu Sans Mono',consolas,'Courier New',monospace\"><span style=\"color: #7fffff; text-decoration-color: #7fffff; font-style: italic; text-decoration: underline\">Marcela Ferreira</span><span style=\"color: #7fffff; text-decoration-color: #7fffff; font-style: italic\"> --&gt; </span><span style=\"color: #7fffff; text-decoration-color: #7fffff; font-style: italic; text-decoration: underline\">Marcela Ferreira</span><span style=\"color: #7fffff; text-decoration-color: #7fffff; font-style: italic\">: </span><span style=\"color: #7fffff; text-decoration-color: #7fffff; font-weight: bold; font-style: italic\">[</span><span style=\"color: #7fffff; text-decoration-color: #7fffff; font-style: italic\">THOUGHT</span><span style=\"color: #7fffff; text-decoration-color: #7fffff; font-weight: bold; font-style: italic\">]</span><span style=\"color: #7fffff; text-decoration-color: #7fffff; font-style: italic\"> I will now act a bit, and then issue DONE.</span>\n",
       "</pre>\n"
      ],
      "text/plain": [
       "\u001b[2;3;4;38;5;51mMarcela Ferreira\u001b[0m\u001b[2;3;38;5;51m --> \u001b[0m\u001b[2;3;4;38;5;51mMarcela Ferreira\u001b[0m\u001b[2;3;38;5;51m: \u001b[0m\u001b[1;2;3;38;5;51m[\u001b[0m\u001b[2;3;38;5;51mTHOUGHT\u001b[0m\u001b[1;2;3;38;5;51m]\u001b[0m\u001b[2;3;38;5;51m I will now act a bit, and then issue DONE.\u001b[0m\n"
      ]
     },
     "metadata": {},
     "output_type": "display_data"
    },
    {
     "data": {
      "text/html": [
       "<pre style=\"margin:0px;;white-space:pre;overflow-x:auto;line-height:normal;font-family:Menlo,'DejaVu Sans Mono',consolas,'Courier New',monospace\"><span style=\"color: #d0d0d0; text-decoration-color: #d0d0d0; text-decoration: underline\">Marcela Ferreira</span><span style=\"color: #d0d0d0; text-decoration-color: #d0d0d0\"> acts: </span><span style=\"color: #d0d0d0; text-decoration-color: #d0d0d0; font-weight: bold\">[</span><span style=\"color: #d0d0d0; text-decoration-color: #d0d0d0\">DONE</span><span style=\"color: #d0d0d0; text-decoration-color: #d0d0d0; font-weight: bold\">]</span><span style=\"color: #d0d0d0; text-decoration-color: #d0d0d0\"> </span>\n",
       "</pre>\n"
      ],
      "text/plain": [
       "\u001b[4;38;5;252mMarcela Ferreira\u001b[0m\u001b[38;5;252m acts: \u001b[0m\u001b[1;38;5;252m[\u001b[0m\u001b[38;5;252mDONE\u001b[0m\u001b[1;38;5;252m]\u001b[0m\u001b[38;5;252m \u001b[0m\n"
      ]
     },
     "metadata": {},
     "output_type": "display_data"
    }
   ],
   "source": [
    "customer.listen_and_act(\"Can you elaborate on the fintechs?\", max_content_length=3000)"
   ]
  },
  {
   "cell_type": "code",
   "execution_count": 7,
   "metadata": {},
   "outputs": [
    {
     "data": {
      "text/html": [
       "<pre style=\"margin:0px;;white-space:pre;overflow-x:auto;line-height:normal;font-family:Menlo,'DejaVu Sans Mono',consolas,'Courier New',monospace\"><span style=\"color: #00ffff; text-decoration-color: #00ffff; font-weight: bold; font-style: italic; text-decoration: underline\">USER</span><span style=\"color: #00ffff; text-decoration-color: #00ffff; font-weight: bold; font-style: italic\"> --&gt; </span><span style=\"color: #00ffff; text-decoration-color: #00ffff; font-weight: bold; font-style: italic; text-decoration: underline\">Marcela Ferreira</span><span style=\"color: #00ffff; text-decoration-color: #00ffff; font-weight: bold; font-style: italic\">: [CONVERSATION] If you could improve in one of these aspects to better compete, what </span>\n",
       "<span style=\"color: #00ffff; text-decoration-color: #00ffff; font-weight: bold; font-style: italic\">would that</span>\n",
       "<span style=\"color: #00ffff; text-decoration-color: #00ffff; font-weight: bold; font-style: italic\">                  &gt; be?</span>\n",
       "</pre>\n"
      ],
      "text/plain": [
       "\u001b[1;3;4;38;5;51mUSER\u001b[0m\u001b[1;3;38;5;51m --> \u001b[0m\u001b[1;3;4;38;5;51mMarcela Ferreira\u001b[0m\u001b[1;3;38;5;51m: \u001b[0m\u001b[1;3;38;5;51m[\u001b[0m\u001b[1;3;38;5;51mCONVERSATION\u001b[0m\u001b[1;3;38;5;51m]\u001b[0m\u001b[1;3;38;5;51m If you could improve in one of these aspects to better compete, what \u001b[0m\n",
       "\u001b[1;3;38;5;51mwould that\u001b[0m\n",
       "\u001b[1;3;38;5;51m                  > be?\u001b[0m\n"
      ]
     },
     "metadata": {},
     "output_type": "display_data"
    },
    {
     "data": {
      "text/html": [
       "<pre style=\"margin:0px;;white-space:pre;overflow-x:auto;line-height:normal;font-family:Menlo,'DejaVu Sans Mono',consolas,'Courier New',monospace\"><span style=\"color: #7fffff; text-decoration-color: #7fffff; font-style: italic; text-decoration: underline\">Marcela Ferreira</span><span style=\"color: #7fffff; text-decoration-color: #7fffff; font-style: italic\"> --&gt; </span><span style=\"color: #7fffff; text-decoration-color: #7fffff; font-style: italic; text-decoration: underline\">Marcela Ferreira</span><span style=\"color: #7fffff; text-decoration-color: #7fffff; font-style: italic\">: </span><span style=\"color: #7fffff; text-decoration-color: #7fffff; font-weight: bold; font-style: italic\">[</span><span style=\"color: #7fffff; text-decoration-color: #7fffff; font-style: italic\">THOUGHT</span><span style=\"color: #7fffff; text-decoration-color: #7fffff; font-weight: bold; font-style: italic\">]</span><span style=\"color: #7fffff; text-decoration-color: #7fffff; font-style: italic\"> I will now act a bit, and then issue DONE.</span>\n",
       "</pre>\n"
      ],
      "text/plain": [
       "\u001b[2;3;4;38;5;51mMarcela Ferreira\u001b[0m\u001b[2;3;38;5;51m --> \u001b[0m\u001b[2;3;4;38;5;51mMarcela Ferreira\u001b[0m\u001b[2;3;38;5;51m: \u001b[0m\u001b[1;2;3;38;5;51m[\u001b[0m\u001b[2;3;38;5;51mTHOUGHT\u001b[0m\u001b[1;2;3;38;5;51m]\u001b[0m\u001b[2;3;38;5;51m I will now act a bit, and then issue DONE.\u001b[0m\n"
      ]
     },
     "metadata": {},
     "output_type": "display_data"
    },
    {
     "data": {
      "text/html": [
       "<pre style=\"margin:0px;;white-space:pre;overflow-x:auto;line-height:normal;font-family:Menlo,'DejaVu Sans Mono',consolas,'Courier New',monospace\"><span style=\"color: #008000; text-decoration-color: #008000; text-decoration: underline\">Marcela Ferreira</span><span style=\"color: #008000; text-decoration-color: #008000\"> acts: </span><span style=\"color: #008000; text-decoration-color: #008000; font-weight: bold\">[</span><span style=\"color: #008000; text-decoration-color: #008000\">THINK</span><span style=\"color: #008000; text-decoration-color: #008000; font-weight: bold\">]</span><span style=\"color: #008000; text-decoration-color: #008000\"> Improving our digital platform to enhance customer experience would be a key</span>\n",
       "<span style=\"color: #008000; text-decoration-color: #008000\">                              &gt; area. This includes investing in technology to</span>\n",
       "<span style=\"color: #008000; text-decoration-color: #008000\">                              &gt; provide more personalized services and user-</span>\n",
       "<span style=\"color: #008000; text-decoration-color: #008000\">                              &gt; friendly interfaces.</span>\n",
       "</pre>\n"
      ],
      "text/plain": [
       "\u001b[4;32mMarcela Ferreira\u001b[0m\u001b[32m acts: \u001b[0m\u001b[1;32m[\u001b[0m\u001b[32mTHINK\u001b[0m\u001b[1;32m]\u001b[0m\u001b[32m Improving our digital platform to enhance customer experience would be a key\u001b[0m\n",
       "\u001b[32m                              > area. This includes investing in technology to\u001b[0m\n",
       "\u001b[32m                              > provide more personalized services and user-\u001b[0m\n",
       "\u001b[32m                              > friendly interfaces.\u001b[0m\n"
      ]
     },
     "metadata": {},
     "output_type": "display_data"
    },
    {
     "data": {
      "text/html": [
       "<pre style=\"margin:0px;;white-space:pre;overflow-x:auto;line-height:normal;font-family:Menlo,'DejaVu Sans Mono',consolas,'Courier New',monospace\"><span style=\"color: #7fffff; text-decoration-color: #7fffff; font-style: italic; text-decoration: underline\">Marcela Ferreira</span><span style=\"color: #7fffff; text-decoration-color: #7fffff; font-style: italic\"> --&gt; </span><span style=\"color: #7fffff; text-decoration-color: #7fffff; font-style: italic; text-decoration: underline\">Marcela Ferreira</span><span style=\"color: #7fffff; text-decoration-color: #7fffff; font-style: italic\">: </span><span style=\"color: #7fffff; text-decoration-color: #7fffff; font-weight: bold; font-style: italic\">[</span><span style=\"color: #7fffff; text-decoration-color: #7fffff; font-style: italic\">THOUGHT</span><span style=\"color: #7fffff; text-decoration-color: #7fffff; font-weight: bold; font-style: italic\">]</span><span style=\"color: #7fffff; text-decoration-color: #7fffff; font-style: italic\"> I will now act a bit, and then issue DONE.</span>\n",
       "</pre>\n"
      ],
      "text/plain": [
       "\u001b[2;3;4;38;5;51mMarcela Ferreira\u001b[0m\u001b[2;3;38;5;51m --> \u001b[0m\u001b[2;3;4;38;5;51mMarcela Ferreira\u001b[0m\u001b[2;3;38;5;51m: \u001b[0m\u001b[1;2;3;38;5;51m[\u001b[0m\u001b[2;3;38;5;51mTHOUGHT\u001b[0m\u001b[1;2;3;38;5;51m]\u001b[0m\u001b[2;3;38;5;51m I will now act a bit, and then issue DONE.\u001b[0m\n"
      ]
     },
     "metadata": {},
     "output_type": "display_data"
    },
    {
     "data": {
      "text/html": [
       "<pre style=\"margin:0px;;white-space:pre;overflow-x:auto;line-height:normal;font-family:Menlo,'DejaVu Sans Mono',consolas,'Courier New',monospace\"><span style=\"color: #00d700; text-decoration-color: #00d700; font-weight: bold; text-decoration: underline\">Marcela Ferreira</span><span style=\"color: #00d700; text-decoration-color: #00d700; font-weight: bold\"> acts: [TALK] I believe the most critical area for improvement would be our digital platform.</span>\n",
       "<span style=\"color: #00d700; text-decoration-color: #00d700; font-weight: bold\">                              &gt; Enhancing the customer experience through a more</span>\n",
       "<span style=\"color: #00d700; text-decoration-color: #00d700; font-weight: bold\">                              &gt; robust, secure, and user-friendly online banking</span>\n",
       "<span style=\"color: #00d700; text-decoration-color: #00d700; font-weight: bold\">                              &gt; system would be pivotal. We need to focus on</span>\n",
       "<span style=\"color: #00d700; text-decoration-color: #00d700; font-weight: bold\">                              &gt; personalization, leveraging data analytics to</span>\n",
       "<span style=\"color: #00d700; text-decoration-color: #00d700; font-weight: bold\">                              &gt; offer tailored financial advice and products. By</span>\n",
       "<span style=\"color: #00d700; text-decoration-color: #00d700; font-weight: bold\">                              &gt; doing so, we can regain a competitive edge and</span>\n",
       "<span style=\"color: #00d700; text-decoration-color: #00d700; font-weight: bold\">                              &gt; meet the evolving expectations of our customers.</span>\n",
       "</pre>\n"
      ],
      "text/plain": [
       "\u001b[1;4;38;5;40mMarcela Ferreira\u001b[0m\u001b[1;38;5;40m acts: \u001b[0m\u001b[1;38;5;40m[\u001b[0m\u001b[1;38;5;40mTALK\u001b[0m\u001b[1;38;5;40m]\u001b[0m\u001b[1;38;5;40m I believe the most critical area for improvement would be our digital platform.\u001b[0m\n",
       "\u001b[1;38;5;40m                              > Enhancing the customer experience through a more\u001b[0m\n",
       "\u001b[1;38;5;40m                              > robust, secure, and user-friendly online banking\u001b[0m\n",
       "\u001b[1;38;5;40m                              > system would be pivotal. We need to focus on\u001b[0m\n",
       "\u001b[1;38;5;40m                              > personalization, leveraging data analytics to\u001b[0m\n",
       "\u001b[1;38;5;40m                              > offer tailored financial advice and products. By\u001b[0m\n",
       "\u001b[1;38;5;40m                              > doing so, we can regain a competitive edge and\u001b[0m\n",
       "\u001b[1;38;5;40m                              > meet the evolving expectations of our customers.\u001b[0m\n"
      ]
     },
     "metadata": {},
     "output_type": "display_data"
    },
    {
     "data": {
      "text/html": [
       "<pre style=\"margin:0px;;white-space:pre;overflow-x:auto;line-height:normal;font-family:Menlo,'DejaVu Sans Mono',consolas,'Courier New',monospace\"><span style=\"color: #7fffff; text-decoration-color: #7fffff; font-style: italic; text-decoration: underline\">Marcela Ferreira</span><span style=\"color: #7fffff; text-decoration-color: #7fffff; font-style: italic\"> --&gt; </span><span style=\"color: #7fffff; text-decoration-color: #7fffff; font-style: italic; text-decoration: underline\">Marcela Ferreira</span><span style=\"color: #7fffff; text-decoration-color: #7fffff; font-style: italic\">: </span><span style=\"color: #7fffff; text-decoration-color: #7fffff; font-weight: bold; font-style: italic\">[</span><span style=\"color: #7fffff; text-decoration-color: #7fffff; font-style: italic\">THOUGHT</span><span style=\"color: #7fffff; text-decoration-color: #7fffff; font-weight: bold; font-style: italic\">]</span><span style=\"color: #7fffff; text-decoration-color: #7fffff; font-style: italic\"> I will now act a bit, and then issue DONE.</span>\n",
       "</pre>\n"
      ],
      "text/plain": [
       "\u001b[2;3;4;38;5;51mMarcela Ferreira\u001b[0m\u001b[2;3;38;5;51m --> \u001b[0m\u001b[2;3;4;38;5;51mMarcela Ferreira\u001b[0m\u001b[2;3;38;5;51m: \u001b[0m\u001b[1;2;3;38;5;51m[\u001b[0m\u001b[2;3;38;5;51mTHOUGHT\u001b[0m\u001b[1;2;3;38;5;51m]\u001b[0m\u001b[2;3;38;5;51m I will now act a bit, and then issue DONE.\u001b[0m\n"
      ]
     },
     "metadata": {},
     "output_type": "display_data"
    },
    {
     "data": {
      "text/html": [
       "<pre style=\"margin:0px;;white-space:pre;overflow-x:auto;line-height:normal;font-family:Menlo,'DejaVu Sans Mono',consolas,'Courier New',monospace\"><span style=\"color: #d0d0d0; text-decoration-color: #d0d0d0; text-decoration: underline\">Marcela Ferreira</span><span style=\"color: #d0d0d0; text-decoration-color: #d0d0d0\"> acts: </span><span style=\"color: #d0d0d0; text-decoration-color: #d0d0d0; font-weight: bold\">[</span><span style=\"color: #d0d0d0; text-decoration-color: #d0d0d0\">DONE</span><span style=\"color: #d0d0d0; text-decoration-color: #d0d0d0; font-weight: bold\">]</span><span style=\"color: #d0d0d0; text-decoration-color: #d0d0d0\"> </span>\n",
       "</pre>\n"
      ],
      "text/plain": [
       "\u001b[4;38;5;252mMarcela Ferreira\u001b[0m\u001b[38;5;252m acts: \u001b[0m\u001b[1;38;5;252m[\u001b[0m\u001b[38;5;252mDONE\u001b[0m\u001b[1;38;5;252m]\u001b[0m\u001b[38;5;252m \u001b[0m\n"
      ]
     },
     "metadata": {},
     "output_type": "display_data"
    }
   ],
   "source": [
    "customer.listen_and_act(\"If you could improve in one of these aspects to better compete, what would that be?\", max_content_length=3000)"
   ]
  },
  {
   "cell_type": "code",
   "execution_count": 8,
   "metadata": {},
   "outputs": [
    {
     "data": {
      "text/html": [
       "<pre style=\"margin:0px;;white-space:pre;overflow-x:auto;line-height:normal;font-family:Menlo,'DejaVu Sans Mono',consolas,'Courier New',monospace\"><span style=\"color: #00ffff; text-decoration-color: #00ffff; font-weight: bold; font-style: italic; text-decoration: underline\">USER</span><span style=\"color: #00ffff; text-decoration-color: #00ffff; font-weight: bold; font-style: italic\"> --&gt; </span><span style=\"color: #00ffff; text-decoration-color: #00ffff; font-weight: bold; font-style: italic; text-decoration: underline\">Marcela Ferreira</span><span style=\"color: #00ffff; text-decoration-color: #00ffff; font-weight: bold; font-style: italic\">: [CONVERSATION] Please give more detail about that, so that we can think about a project </span>\n",
       "<span style=\"color: #00ffff; text-decoration-color: #00ffff; font-weight: bold; font-style: italic\">to</span>\n",
       "<span style=\"color: #00ffff; text-decoration-color: #00ffff; font-weight: bold; font-style: italic\">                  &gt; pursue this direction.</span>\n",
       "</pre>\n"
      ],
      "text/plain": [
       "\u001b[1;3;4;38;5;51mUSER\u001b[0m\u001b[1;3;38;5;51m --> \u001b[0m\u001b[1;3;4;38;5;51mMarcela Ferreira\u001b[0m\u001b[1;3;38;5;51m: \u001b[0m\u001b[1;3;38;5;51m[\u001b[0m\u001b[1;3;38;5;51mCONVERSATION\u001b[0m\u001b[1;3;38;5;51m]\u001b[0m\u001b[1;3;38;5;51m Please give more detail about that, so that we can think about a project \u001b[0m\n",
       "\u001b[1;3;38;5;51mto\u001b[0m\n",
       "\u001b[1;3;38;5;51m                  > pursue this direction.\u001b[0m\n"
      ]
     },
     "metadata": {},
     "output_type": "display_data"
    },
    {
     "data": {
      "text/html": [
       "<pre style=\"margin:0px;;white-space:pre;overflow-x:auto;line-height:normal;font-family:Menlo,'DejaVu Sans Mono',consolas,'Courier New',monospace\"><span style=\"color: #7fffff; text-decoration-color: #7fffff; font-style: italic; text-decoration: underline\">Marcela Ferreira</span><span style=\"color: #7fffff; text-decoration-color: #7fffff; font-style: italic\"> --&gt; </span><span style=\"color: #7fffff; text-decoration-color: #7fffff; font-style: italic; text-decoration: underline\">Marcela Ferreira</span><span style=\"color: #7fffff; text-decoration-color: #7fffff; font-style: italic\">: </span><span style=\"color: #7fffff; text-decoration-color: #7fffff; font-weight: bold; font-style: italic\">[</span><span style=\"color: #7fffff; text-decoration-color: #7fffff; font-style: italic\">THOUGHT</span><span style=\"color: #7fffff; text-decoration-color: #7fffff; font-weight: bold; font-style: italic\">]</span><span style=\"color: #7fffff; text-decoration-color: #7fffff; font-style: italic\"> I will now act a bit, and then issue DONE.</span>\n",
       "</pre>\n"
      ],
      "text/plain": [
       "\u001b[2;3;4;38;5;51mMarcela Ferreira\u001b[0m\u001b[2;3;38;5;51m --> \u001b[0m\u001b[2;3;4;38;5;51mMarcela Ferreira\u001b[0m\u001b[2;3;38;5;51m: \u001b[0m\u001b[1;2;3;38;5;51m[\u001b[0m\u001b[2;3;38;5;51mTHOUGHT\u001b[0m\u001b[1;2;3;38;5;51m]\u001b[0m\u001b[2;3;38;5;51m I will now act a bit, and then issue DONE.\u001b[0m\n"
      ]
     },
     "metadata": {},
     "output_type": "display_data"
    },
    {
     "data": {
      "text/html": [
       "<pre style=\"margin:0px;;white-space:pre;overflow-x:auto;line-height:normal;font-family:Menlo,'DejaVu Sans Mono',consolas,'Courier New',monospace\"><span style=\"color: #008000; text-decoration-color: #008000; text-decoration: underline\">Marcela Ferreira</span><span style=\"color: #008000; text-decoration-color: #008000\"> acts: </span><span style=\"color: #008000; text-decoration-color: #008000; font-weight: bold\">[</span><span style=\"color: #008000; text-decoration-color: #008000\">THINK</span><span style=\"color: #008000; text-decoration-color: #008000; font-weight: bold\">]</span><span style=\"color: #008000; text-decoration-color: #008000\"> To elaborate, we need to invest in a state-of-the-art IT infrastructure that</span>\n",
       "<span style=\"color: #008000; text-decoration-color: #008000\">                              &gt; supports advanced data analytics for customer</span>\n",
       "<span style=\"color: #008000; text-decoration-color: #008000\">                              &gt; insights. We should also develop a more</span>\n",
       "<span style=\"color: #008000; text-decoration-color: #008000\">                              &gt; intuitive and seamless multi-channel experience,</span>\n",
       "<span style=\"color: #008000; text-decoration-color: #008000\">                              &gt; integrating mobile, online, and in-branch</span>\n",
       "<span style=\"color: #008000; text-decoration-color: #008000\">                              &gt; services.</span>\n",
       "</pre>\n"
      ],
      "text/plain": [
       "\u001b[4;32mMarcela Ferreira\u001b[0m\u001b[32m acts: \u001b[0m\u001b[1;32m[\u001b[0m\u001b[32mTHINK\u001b[0m\u001b[1;32m]\u001b[0m\u001b[32m To elaborate, we need to invest in a state-of-the-art IT infrastructure that\u001b[0m\n",
       "\u001b[32m                              > supports advanced data analytics for customer\u001b[0m\n",
       "\u001b[32m                              > insights. We should also develop a more\u001b[0m\n",
       "\u001b[32m                              > intuitive and seamless multi-channel experience,\u001b[0m\n",
       "\u001b[32m                              > integrating mobile, online, and in-branch\u001b[0m\n",
       "\u001b[32m                              > services.\u001b[0m\n"
      ]
     },
     "metadata": {},
     "output_type": "display_data"
    },
    {
     "data": {
      "text/html": [
       "<pre style=\"margin:0px;;white-space:pre;overflow-x:auto;line-height:normal;font-family:Menlo,'DejaVu Sans Mono',consolas,'Courier New',monospace\"><span style=\"color: #7fffff; text-decoration-color: #7fffff; font-style: italic; text-decoration: underline\">Marcela Ferreira</span><span style=\"color: #7fffff; text-decoration-color: #7fffff; font-style: italic\"> --&gt; </span><span style=\"color: #7fffff; text-decoration-color: #7fffff; font-style: italic; text-decoration: underline\">Marcela Ferreira</span><span style=\"color: #7fffff; text-decoration-color: #7fffff; font-style: italic\">: </span><span style=\"color: #7fffff; text-decoration-color: #7fffff; font-weight: bold; font-style: italic\">[</span><span style=\"color: #7fffff; text-decoration-color: #7fffff; font-style: italic\">THOUGHT</span><span style=\"color: #7fffff; text-decoration-color: #7fffff; font-weight: bold; font-style: italic\">]</span><span style=\"color: #7fffff; text-decoration-color: #7fffff; font-style: italic\"> I will now act a bit, and then issue DONE.</span>\n",
       "</pre>\n"
      ],
      "text/plain": [
       "\u001b[2;3;4;38;5;51mMarcela Ferreira\u001b[0m\u001b[2;3;38;5;51m --> \u001b[0m\u001b[2;3;4;38;5;51mMarcela Ferreira\u001b[0m\u001b[2;3;38;5;51m: \u001b[0m\u001b[1;2;3;38;5;51m[\u001b[0m\u001b[2;3;38;5;51mTHOUGHT\u001b[0m\u001b[1;2;3;38;5;51m]\u001b[0m\u001b[2;3;38;5;51m I will now act a bit, and then issue DONE.\u001b[0m\n"
      ]
     },
     "metadata": {},
     "output_type": "display_data"
    },
    {
     "data": {
      "text/html": [
       "<pre style=\"margin:0px;;white-space:pre;overflow-x:auto;line-height:normal;font-family:Menlo,'DejaVu Sans Mono',consolas,'Courier New',monospace\"><span style=\"color: #00d700; text-decoration-color: #00d700; font-weight: bold; text-decoration: underline\">Marcela Ferreira</span><span style=\"color: #00d700; text-decoration-color: #00d700; font-weight: bold\"> acts: [TALK] Certainly. A detailed project would involve creating a comprehensive digital</span>\n",
       "<span style=\"color: #00d700; text-decoration-color: #00d700; font-weight: bold\">                              &gt; transformation plan. This would include</span>\n",
       "<span style=\"color: #00d700; text-decoration-color: #00d700; font-weight: bold\">                              &gt; upgrading our core banking system to allow for</span>\n",
       "<span style=\"color: #00d700; text-decoration-color: #00d700; font-weight: bold\">                              &gt; real-time processing and better integration with</span>\n",
       "<span style=\"color: #00d700; text-decoration-color: #00d700; font-weight: bold\">                              &gt; new technologies. We'd also look into adopting</span>\n",
       "<span style=\"color: #00d700; text-decoration-color: #00d700; font-weight: bold\">                              &gt; cloud services for scalability and implementing</span>\n",
       "<span style=\"color: #00d700; text-decoration-color: #00d700; font-weight: bold\">                              &gt; advanced cybersecurity measures. On the</span>\n",
       "<span style=\"color: #00d700; text-decoration-color: #00d700; font-weight: bold\">                              &gt; customer-facing side, we'd redesign our online</span>\n",
       "<span style=\"color: #00d700; text-decoration-color: #00d700; font-weight: bold\">                              &gt; and mobile banking platforms to offer a more</span>\n",
       "<span style=\"color: #00d700; text-decoration-color: #00d700; font-weight: bold\">                              &gt; personalized and engaging user experience, with</span>\n",
       "<span style=\"color: #00d700; text-decoration-color: #00d700; font-weight: bold\">                              &gt; features like financial management tools,</span>\n",
       "<span style=\"color: #00d700; text-decoration-color: #00d700; font-weight: bold\">                              &gt; customized product recommendations, and enhanced</span>\n",
       "<span style=\"color: #00d700; text-decoration-color: #00d700; font-weight: bold\">                              &gt; support via chatbots and virtual assistants. The</span>\n",
       "<span style=\"color: #00d700; text-decoration-color: #00d700; font-weight: bold\">                              &gt; goal is to create a seamless and secure digital</span>\n",
       "<span style=\"color: #00d700; text-decoration-color: #00d700; font-weight: bold\">                              &gt; ecosystem that meets the needs of our tech-savvy</span>\n",
       "<span style=\"color: #00d700; text-decoration-color: #00d700; font-weight: bold\">                              &gt; customers.</span>\n",
       "</pre>\n"
      ],
      "text/plain": [
       "\u001b[1;4;38;5;40mMarcela Ferreira\u001b[0m\u001b[1;38;5;40m acts: \u001b[0m\u001b[1;38;5;40m[\u001b[0m\u001b[1;38;5;40mTALK\u001b[0m\u001b[1;38;5;40m]\u001b[0m\u001b[1;38;5;40m Certainly. A detailed project would involve creating a comprehensive digital\u001b[0m\n",
       "\u001b[1;38;5;40m                              > transformation plan. This would include\u001b[0m\n",
       "\u001b[1;38;5;40m                              > upgrading our core banking system to allow for\u001b[0m\n",
       "\u001b[1;38;5;40m                              > real-time processing and better integration with\u001b[0m\n",
       "\u001b[1;38;5;40m                              > new technologies. We'd also look into adopting\u001b[0m\n",
       "\u001b[1;38;5;40m                              > cloud services for scalability and implementing\u001b[0m\n",
       "\u001b[1;38;5;40m                              > advanced cybersecurity measures. On the\u001b[0m\n",
       "\u001b[1;38;5;40m                              > customer-facing side, we'd redesign our online\u001b[0m\n",
       "\u001b[1;38;5;40m                              > and mobile banking platforms to offer a more\u001b[0m\n",
       "\u001b[1;38;5;40m                              > personalized and engaging user experience, with\u001b[0m\n",
       "\u001b[1;38;5;40m                              > features like financial management tools,\u001b[0m\n",
       "\u001b[1;38;5;40m                              > customized product recommendations, and enhanced\u001b[0m\n",
       "\u001b[1;38;5;40m                              > support via chatbots and virtual assistants. The\u001b[0m\n",
       "\u001b[1;38;5;40m                              > goal is to create a seamless and secure digital\u001b[0m\n",
       "\u001b[1;38;5;40m                              > ecosystem that meets the needs of our tech-savvy\u001b[0m\n",
       "\u001b[1;38;5;40m                              > customers.\u001b[0m\n"
      ]
     },
     "metadata": {},
     "output_type": "display_data"
    },
    {
     "data": {
      "text/html": [
       "<pre style=\"margin:0px;;white-space:pre;overflow-x:auto;line-height:normal;font-family:Menlo,'DejaVu Sans Mono',consolas,'Courier New',monospace\"><span style=\"color: #7fffff; text-decoration-color: #7fffff; font-style: italic; text-decoration: underline\">Marcela Ferreira</span><span style=\"color: #7fffff; text-decoration-color: #7fffff; font-style: italic\"> --&gt; </span><span style=\"color: #7fffff; text-decoration-color: #7fffff; font-style: italic; text-decoration: underline\">Marcela Ferreira</span><span style=\"color: #7fffff; text-decoration-color: #7fffff; font-style: italic\">: </span><span style=\"color: #7fffff; text-decoration-color: #7fffff; font-weight: bold; font-style: italic\">[</span><span style=\"color: #7fffff; text-decoration-color: #7fffff; font-style: italic\">THOUGHT</span><span style=\"color: #7fffff; text-decoration-color: #7fffff; font-weight: bold; font-style: italic\">]</span><span style=\"color: #7fffff; text-decoration-color: #7fffff; font-style: italic\"> I will now act a bit, and then issue DONE.</span>\n",
       "</pre>\n"
      ],
      "text/plain": [
       "\u001b[2;3;4;38;5;51mMarcela Ferreira\u001b[0m\u001b[2;3;38;5;51m --> \u001b[0m\u001b[2;3;4;38;5;51mMarcela Ferreira\u001b[0m\u001b[2;3;38;5;51m: \u001b[0m\u001b[1;2;3;38;5;51m[\u001b[0m\u001b[2;3;38;5;51mTHOUGHT\u001b[0m\u001b[1;2;3;38;5;51m]\u001b[0m\u001b[2;3;38;5;51m I will now act a bit, and then issue DONE.\u001b[0m\n"
      ]
     },
     "metadata": {},
     "output_type": "display_data"
    },
    {
     "data": {
      "text/html": [
       "<pre style=\"margin:0px;;white-space:pre;overflow-x:auto;line-height:normal;font-family:Menlo,'DejaVu Sans Mono',consolas,'Courier New',monospace\"><span style=\"color: #d0d0d0; text-decoration-color: #d0d0d0; text-decoration: underline\">Marcela Ferreira</span><span style=\"color: #d0d0d0; text-decoration-color: #d0d0d0\"> acts: </span><span style=\"color: #d0d0d0; text-decoration-color: #d0d0d0; font-weight: bold\">[</span><span style=\"color: #d0d0d0; text-decoration-color: #d0d0d0\">DONE</span><span style=\"color: #d0d0d0; text-decoration-color: #d0d0d0; font-weight: bold\">]</span><span style=\"color: #d0d0d0; text-decoration-color: #d0d0d0\"> </span>\n",
       "</pre>\n"
      ],
      "text/plain": [
       "\u001b[4;38;5;252mMarcela Ferreira\u001b[0m\u001b[38;5;252m acts: \u001b[0m\u001b[1;38;5;252m[\u001b[0m\u001b[38;5;252mDONE\u001b[0m\u001b[1;38;5;252m]\u001b[0m\u001b[38;5;252m \u001b[0m\n"
      ]
     },
     "metadata": {},
     "output_type": "display_data"
    }
   ],
   "source": [
    "customer.listen_and_act(\"Please give more detail about that, so that we can think about a project to pursue this direction.\", max_content_length=3000)"
   ]
  },
  {
   "cell_type": "code",
   "execution_count": null,
   "metadata": {},
   "outputs": [],
   "source": []
  }
 ],
 "metadata": {
  "kernelspec": {
   "display_name": "base",
   "language": "python",
   "name": "python3"
  },
  "language_info": {
   "codemirror_mode": {
    "name": "ipython",
    "version": 3
   },
   "file_extension": ".py",
   "mimetype": "text/x-python",
   "name": "python",
   "nbconvert_exporter": "python",
   "pygments_lexer": "ipython3",
   "version": "3.10.13"
  },
  "orig_nbformat": 4
 },
 "nbformat": 4,
 "nbformat_minor": 2
}
