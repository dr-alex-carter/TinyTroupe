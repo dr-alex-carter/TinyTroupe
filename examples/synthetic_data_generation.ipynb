{
 "cells": [
  {
   "cell_type": "markdown",
   "metadata": {},
   "source": [
    "# Synthetic Data Generation\n"
   ]
  },
  {
   "cell_type": "code",
   "execution_count": 18,
   "metadata": {},
   "outputs": [],
   "source": [
    "import json\n",
    "import sys\n",
    "import csv\n",
    "sys.path.append('..')\n",
    "\n",
    "\n",
    "import tinytroupe\n",
    "from tinytroupe.agent import TinyPerson\n",
    "from tinytroupe.environment import TinyWorld, TinySocialNetwork\n",
    "from tinytroupe.personfactory import TinyPersonFactory\n",
    "from tinytroupe.extraction import default_extractor as extractor\n",
    "from tinytroupe.extraction import InteractionResultsReducer\n",
    "import tinytroupe.control as control"
   ]
  },
  {
   "cell_type": "markdown",
   "metadata": {},
   "source": [
    "Let's create the specific types of agents we need to collect data."
   ]
  },
  {
   "cell_type": "code",
   "execution_count": 2,
   "metadata": {},
   "outputs": [],
   "source": [
    "factory = TinyPersonFactory(\"A random knowledge worker in a company providing marketing services.\")"
   ]
  },
  {
   "cell_type": "code",
   "execution_count": 3,
   "metadata": {},
   "outputs": [
    {
     "name": "stdout",
     "output_type": "stream",
     "text": [
      "Ava Turner is a 29 year old Digital Marketing Specialist from Canada.\n",
      "Miles Peterson is a 42 year old Content Strategist from United States.\n"
     ]
    },
    {
     "data": {
      "text/plain": [
       "2"
      ]
     },
     "execution_count": 3,
     "metadata": {},
     "output_type": "execute_result"
    }
   ],
   "source": [
    "people = []\n",
    "for i in range(2):\n",
    "    person = factory.generate_person(temperature=1.6)\n",
    "    print(person.minibio())\n",
    "    people.append(person)\n",
    "\n",
    "len(people)"
   ]
  },
  {
   "cell_type": "code",
   "execution_count": 4,
   "metadata": {},
   "outputs": [],
   "source": [
    "company = TinyWorld(\"Some Corp Inc.\", people)"
   ]
  },
  {
   "cell_type": "code",
   "execution_count": 5,
   "metadata": {},
   "outputs": [],
   "source": [
    "company.make_everyone_accessible()"
   ]
  },
  {
   "cell_type": "code",
   "execution_count": 6,
   "metadata": {},
   "outputs": [
    {
     "data": {
      "text/html": [
       "<pre style=\"margin:0px;;white-space:pre;overflow-x:auto;line-height:normal;font-family:Menlo,'DejaVu Sans Mono',consolas,'Courier New',monospace\"><span style=\"color: #00ffff; text-decoration-color: #00ffff; font-weight: bold; font-style: italic; text-decoration: underline\">USER</span><span style=\"color: #00ffff; text-decoration-color: #00ffff; font-weight: bold; font-style: italic\"> --&gt; </span><span style=\"color: #00ffff; text-decoration-color: #00ffff; font-weight: bold; font-style: italic; text-decoration: underline\">Ava Turner</span><span style=\"color: #00ffff; text-decoration-color: #00ffff; font-weight: bold; font-style: italic\">: [CONVERSATION] Message each other to get work done.</span>\n",
       "</pre>\n"
      ],
      "text/plain": [
       "\u001b[1;3;4;38;5;51mUSER\u001b[0m\u001b[1;3;38;5;51m --> \u001b[0m\u001b[1;3;4;38;5;51mAva Turner\u001b[0m\u001b[1;3;38;5;51m: \u001b[0m\u001b[1;3;38;5;51m[\u001b[0m\u001b[1;3;38;5;51mCONVERSATION\u001b[0m\u001b[1;3;38;5;51m]\u001b[0m\u001b[1;3;38;5;51m Message each other to get work done.\u001b[0m\n"
      ]
     },
     "metadata": {},
     "output_type": "display_data"
    },
    {
     "data": {
      "text/html": [
       "<pre style=\"margin:0px;;white-space:pre;overflow-x:auto;line-height:normal;font-family:Menlo,'DejaVu Sans Mono',consolas,'Courier New',monospace\"><span style=\"color: #00ffff; text-decoration-color: #00ffff; font-weight: bold; font-style: italic; text-decoration: underline\">USER</span><span style=\"color: #00ffff; text-decoration-color: #00ffff; font-weight: bold; font-style: italic\"> --&gt; </span><span style=\"color: #00ffff; text-decoration-color: #00ffff; font-weight: bold; font-style: italic; text-decoration: underline\">Miles Peterson</span><span style=\"color: #00ffff; text-decoration-color: #00ffff; font-weight: bold; font-style: italic\">: [CONVERSATION] Message each other to get work done.</span>\n",
       "</pre>\n"
      ],
      "text/plain": [
       "\u001b[1;3;4;38;5;51mUSER\u001b[0m\u001b[1;3;38;5;51m --> \u001b[0m\u001b[1;3;4;38;5;51mMiles Peterson\u001b[0m\u001b[1;3;38;5;51m: \u001b[0m\u001b[1;3;38;5;51m[\u001b[0m\u001b[1;3;38;5;51mCONVERSATION\u001b[0m\u001b[1;3;38;5;51m]\u001b[0m\u001b[1;3;38;5;51m Message each other to get work done.\u001b[0m\n"
      ]
     },
     "metadata": {},
     "output_type": "display_data"
    }
   ],
   "source": [
    "company.broadcast(\"Message each other to get work done.\")"
   ]
  },
  {
   "cell_type": "code",
   "execution_count": 7,
   "metadata": {},
   "outputs": [
    {
     "data": {
      "text/html": [
       "<pre style=\"margin:0px;;white-space:pre;overflow-x:auto;line-height:normal;font-family:Menlo,'DejaVu Sans Mono',consolas,'Courier New',monospace\"><span style=\"color: #00ff00; text-decoration-color: #00ff00\">─────────────────────────────────────────── </span>Some Corp Inc. step <span style=\"color: #008080; text-decoration-color: #008080; font-weight: bold\">1</span> of <span style=\"color: #008080; text-decoration-color: #008080; font-weight: bold\">2</span><span style=\"color: #00ff00; text-decoration-color: #00ff00\"> ────────────────────────────────────────────</span>\n",
       "</pre>\n"
      ],
      "text/plain": [
       "\u001b[92m─────────────────────────────────────────── \u001b[0mSome Corp Inc. step \u001b[1;36m1\u001b[0m of \u001b[1;36m2\u001b[0m\u001b[92m ────────────────────────────────────────────\u001b[0m\n"
      ]
     },
     "metadata": {},
     "output_type": "display_data"
    },
    {
     "data": {
      "text/html": [
       "<pre style=\"margin:0px;;white-space:pre;overflow-x:auto;line-height:normal;font-family:Menlo,'DejaVu Sans Mono',consolas,'Courier New',monospace\"><span style=\"color: #7fffff; text-decoration-color: #7fffff; font-style: italic; text-decoration: underline\">Ava Turner</span><span style=\"color: #7fffff; text-decoration-color: #7fffff; font-style: italic\"> --&gt; </span><span style=\"color: #7fffff; text-decoration-color: #7fffff; font-style: italic; text-decoration: underline\">Ava Turner</span><span style=\"color: #7fffff; text-decoration-color: #7fffff; font-style: italic\">: </span><span style=\"color: #7fffff; text-decoration-color: #7fffff; font-weight: bold; font-style: italic\">[</span><span style=\"color: #7fffff; text-decoration-color: #7fffff; font-style: italic\">THOUGHT</span><span style=\"color: #7fffff; text-decoration-color: #7fffff; font-weight: bold; font-style: italic\">]</span><span style=\"color: #7fffff; text-decoration-color: #7fffff; font-style: italic\"> I will now act a bit, and then issue DONE.</span>\n",
       "</pre>\n"
      ],
      "text/plain": [
       "\u001b[2;3;4;38;5;51mAva Turner\u001b[0m\u001b[2;3;38;5;51m --> \u001b[0m\u001b[2;3;4;38;5;51mAva Turner\u001b[0m\u001b[2;3;38;5;51m: \u001b[0m\u001b[1;2;3;38;5;51m[\u001b[0m\u001b[2;3;38;5;51mTHOUGHT\u001b[0m\u001b[1;2;3;38;5;51m]\u001b[0m\u001b[2;3;38;5;51m I will now act a bit, and then issue DONE.\u001b[0m\n"
      ]
     },
     "metadata": {},
     "output_type": "display_data"
    },
    {
     "data": {
      "text/html": [
       "<pre style=\"margin:0px;;white-space:pre;overflow-x:auto;line-height:normal;font-family:Menlo,'DejaVu Sans Mono',consolas,'Courier New',monospace\"><span style=\"color: #008000; text-decoration-color: #008000; text-decoration: underline\">Ava Turner</span><span style=\"color: #008000; text-decoration-color: #008000\"> acts: </span><span style=\"color: #008000; text-decoration-color: #008000; font-weight: bold\">[</span><span style=\"color: #008000; text-decoration-color: #008000\">THINK</span><span style=\"color: #008000; text-decoration-color: #008000; font-weight: bold\">]</span><span style=\"color: #008000; text-decoration-color: #008000\"> I need to message Miles Peterson to coordinate our tasks and ensure we're</span>\n",
       "<span style=\"color: #008000; text-decoration-color: #008000\">                        &gt; progressing with our work.</span>\n",
       "</pre>\n"
      ],
      "text/plain": [
       "\u001b[4;32mAva Turner\u001b[0m\u001b[32m acts: \u001b[0m\u001b[1;32m[\u001b[0m\u001b[32mTHINK\u001b[0m\u001b[1;32m]\u001b[0m\u001b[32m I need to message Miles Peterson to coordinate our tasks and ensure we're\u001b[0m\n",
       "\u001b[32m                        > progressing with our work.\u001b[0m\n"
      ]
     },
     "metadata": {},
     "output_type": "display_data"
    },
    {
     "data": {
      "text/html": [
       "<pre style=\"margin:0px;;white-space:pre;overflow-x:auto;line-height:normal;font-family:Menlo,'DejaVu Sans Mono',consolas,'Courier New',monospace\"><span style=\"color: #7fffff; text-decoration-color: #7fffff; font-style: italic; text-decoration: underline\">Ava Turner</span><span style=\"color: #7fffff; text-decoration-color: #7fffff; font-style: italic\"> --&gt; </span><span style=\"color: #7fffff; text-decoration-color: #7fffff; font-style: italic; text-decoration: underline\">Ava Turner</span><span style=\"color: #7fffff; text-decoration-color: #7fffff; font-style: italic\">: </span><span style=\"color: #7fffff; text-decoration-color: #7fffff; font-weight: bold; font-style: italic\">[</span><span style=\"color: #7fffff; text-decoration-color: #7fffff; font-style: italic\">THOUGHT</span><span style=\"color: #7fffff; text-decoration-color: #7fffff; font-weight: bold; font-style: italic\">]</span><span style=\"color: #7fffff; text-decoration-color: #7fffff; font-style: italic\"> I will now act a bit, and then issue DONE.</span>\n",
       "</pre>\n"
      ],
      "text/plain": [
       "\u001b[2;3;4;38;5;51mAva Turner\u001b[0m\u001b[2;3;38;5;51m --> \u001b[0m\u001b[2;3;4;38;5;51mAva Turner\u001b[0m\u001b[2;3;38;5;51m: \u001b[0m\u001b[1;2;3;38;5;51m[\u001b[0m\u001b[2;3;38;5;51mTHOUGHT\u001b[0m\u001b[1;2;3;38;5;51m]\u001b[0m\u001b[2;3;38;5;51m I will now act a bit, and then issue DONE.\u001b[0m\n"
      ]
     },
     "metadata": {},
     "output_type": "display_data"
    },
    {
     "data": {
      "text/html": [
       "<pre style=\"margin:0px;;white-space:pre;overflow-x:auto;line-height:normal;font-family:Menlo,'DejaVu Sans Mono',consolas,'Courier New',monospace\"><span style=\"color: #af00ff; text-decoration-color: #af00ff; text-decoration: underline\">Ava Turner</span><span style=\"color: #af00ff; text-decoration-color: #af00ff\"> acts: </span><span style=\"color: #af00ff; text-decoration-color: #af00ff; font-weight: bold\">[</span><span style=\"color: #af00ff; text-decoration-color: #af00ff\">REACH_OUT</span><span style=\"color: #af00ff; text-decoration-color: #af00ff; font-weight: bold\">]</span><span style=\"color: #af00ff; text-decoration-color: #af00ff\"> </span>\n",
       "</pre>\n"
      ],
      "text/plain": [
       "\u001b[4;38;5;129mAva Turner\u001b[0m\u001b[38;5;129m acts: \u001b[0m\u001b[1;38;5;129m[\u001b[0m\u001b[38;5;129mREACH_OUT\u001b[0m\u001b[1;38;5;129m]\u001b[0m\u001b[38;5;129m \u001b[0m\n"
      ]
     },
     "metadata": {},
     "output_type": "display_data"
    },
    {
     "data": {
      "text/html": [
       "<pre style=\"margin:0px;;white-space:pre;overflow-x:auto;line-height:normal;font-family:Menlo,'DejaVu Sans Mono',consolas,'Courier New',monospace\"><span style=\"color: #7fffff; text-decoration-color: #7fffff; font-style: italic; text-decoration: underline\">Ava Turner</span><span style=\"color: #7fffff; text-decoration-color: #7fffff; font-style: italic\"> --&gt; </span><span style=\"color: #7fffff; text-decoration-color: #7fffff; font-style: italic; text-decoration: underline\">Ava Turner</span><span style=\"color: #7fffff; text-decoration-color: #7fffff; font-style: italic\">: </span><span style=\"color: #7fffff; text-decoration-color: #7fffff; font-weight: bold; font-style: italic\">[</span><span style=\"color: #7fffff; text-decoration-color: #7fffff; font-style: italic\">THOUGHT</span><span style=\"color: #7fffff; text-decoration-color: #7fffff; font-weight: bold; font-style: italic\">]</span><span style=\"color: #7fffff; text-decoration-color: #7fffff; font-style: italic\"> I will now act a bit, and then issue DONE.</span>\n",
       "</pre>\n"
      ],
      "text/plain": [
       "\u001b[2;3;4;38;5;51mAva Turner\u001b[0m\u001b[2;3;38;5;51m --> \u001b[0m\u001b[2;3;4;38;5;51mAva Turner\u001b[0m\u001b[2;3;38;5;51m: \u001b[0m\u001b[1;2;3;38;5;51m[\u001b[0m\u001b[2;3;38;5;51mTHOUGHT\u001b[0m\u001b[1;2;3;38;5;51m]\u001b[0m\u001b[2;3;38;5;51m I will now act a bit, and then issue DONE.\u001b[0m\n"
      ]
     },
     "metadata": {},
     "output_type": "display_data"
    },
    {
     "data": {
      "text/html": [
       "<pre style=\"margin:0px;;white-space:pre;overflow-x:auto;line-height:normal;font-family:Menlo,'DejaVu Sans Mono',consolas,'Courier New',monospace\"><span style=\"color: #00d700; text-decoration-color: #00d700; font-weight: bold; text-decoration: underline\">Ava Turner</span><span style=\"color: #00d700; text-decoration-color: #00d700; font-weight: bold\"> acts: [TALK] Hi Miles, I hope you're doing well. Let's coordinate on our tasks for the day.</span>\n",
       "<span style=\"color: #00d700; text-decoration-color: #00d700; font-weight: bold\">                        &gt; Do you have any updates on your end?</span>\n",
       "</pre>\n"
      ],
      "text/plain": [
       "\u001b[1;4;38;5;40mAva Turner\u001b[0m\u001b[1;38;5;40m acts: \u001b[0m\u001b[1;38;5;40m[\u001b[0m\u001b[1;38;5;40mTALK\u001b[0m\u001b[1;38;5;40m]\u001b[0m\u001b[1;38;5;40m Hi Miles, I hope you're doing well. Let's coordinate on our tasks for the day.\u001b[0m\n",
       "\u001b[1;38;5;40m                        > Do you have any updates on your end?\u001b[0m\n"
      ]
     },
     "metadata": {},
     "output_type": "display_data"
    },
    {
     "data": {
      "text/html": [
       "<pre style=\"margin:0px;;white-space:pre;overflow-x:auto;line-height:normal;font-family:Menlo,'DejaVu Sans Mono',consolas,'Courier New',monospace\"><span style=\"color: #7fffff; text-decoration-color: #7fffff; font-style: italic; text-decoration: underline\">Ava Turner</span><span style=\"color: #7fffff; text-decoration-color: #7fffff; font-style: italic\"> --&gt; </span><span style=\"color: #7fffff; text-decoration-color: #7fffff; font-style: italic; text-decoration: underline\">Ava Turner</span><span style=\"color: #7fffff; text-decoration-color: #7fffff; font-style: italic\">: </span><span style=\"color: #7fffff; text-decoration-color: #7fffff; font-weight: bold; font-style: italic\">[</span><span style=\"color: #7fffff; text-decoration-color: #7fffff; font-style: italic\">THOUGHT</span><span style=\"color: #7fffff; text-decoration-color: #7fffff; font-weight: bold; font-style: italic\">]</span><span style=\"color: #7fffff; text-decoration-color: #7fffff; font-style: italic\"> I will now act a bit, and then issue DONE.</span>\n",
       "</pre>\n"
      ],
      "text/plain": [
       "\u001b[2;3;4;38;5;51mAva Turner\u001b[0m\u001b[2;3;38;5;51m --> \u001b[0m\u001b[2;3;4;38;5;51mAva Turner\u001b[0m\u001b[2;3;38;5;51m: \u001b[0m\u001b[1;2;3;38;5;51m[\u001b[0m\u001b[2;3;38;5;51mTHOUGHT\u001b[0m\u001b[1;2;3;38;5;51m]\u001b[0m\u001b[2;3;38;5;51m I will now act a bit, and then issue DONE.\u001b[0m\n"
      ]
     },
     "metadata": {},
     "output_type": "display_data"
    },
    {
     "data": {
      "text/html": [
       "<pre style=\"margin:0px;;white-space:pre;overflow-x:auto;line-height:normal;font-family:Menlo,'DejaVu Sans Mono',consolas,'Courier New',monospace\"><span style=\"color: #d0d0d0; text-decoration-color: #d0d0d0; text-decoration: underline\">Ava Turner</span><span style=\"color: #d0d0d0; text-decoration-color: #d0d0d0\"> acts: </span><span style=\"color: #d0d0d0; text-decoration-color: #d0d0d0; font-weight: bold\">[</span><span style=\"color: #d0d0d0; text-decoration-color: #d0d0d0\">DONE</span><span style=\"color: #d0d0d0; text-decoration-color: #d0d0d0; font-weight: bold\">]</span><span style=\"color: #d0d0d0; text-decoration-color: #d0d0d0\"> </span>\n",
       "</pre>\n"
      ],
      "text/plain": [
       "\u001b[4;38;5;252mAva Turner\u001b[0m\u001b[38;5;252m acts: \u001b[0m\u001b[1;38;5;252m[\u001b[0m\u001b[38;5;252mDONE\u001b[0m\u001b[1;38;5;252m]\u001b[0m\u001b[38;5;252m \u001b[0m\n"
      ]
     },
     "metadata": {},
     "output_type": "display_data"
    },
    {
     "data": {
      "text/html": [
       "<pre style=\"margin:0px;;white-space:pre;overflow-x:auto;line-height:normal;font-family:Menlo,'DejaVu Sans Mono',consolas,'Courier New',monospace\"><span style=\"font-style: italic; text-decoration: underline\">Some Corp Inc.</span><span style=\"font-style: italic\"> --&gt; </span><span style=\"font-style: italic; text-decoration: underline\">Ava Turner</span><span style=\"font-style: italic\">: </span><span style=\"font-weight: bold; font-style: italic\">[</span><span style=\"font-style: italic\">SOCIAL</span><span style=\"font-weight: bold; font-style: italic\">]</span><span style=\"font-style: italic\"> Miles Peterson was successfully reached out, and is now available for</span>\n",
       "<span style=\"font-style: italic\">                            &gt; interaction.</span>\n",
       "</pre>\n"
      ],
      "text/plain": [
       "\u001b[3;4mSome Corp Inc.\u001b[0m\u001b[3m --> \u001b[0m\u001b[3;4mAva Turner\u001b[0m\u001b[3m: \u001b[0m\u001b[1;3m[\u001b[0m\u001b[3mSOCIAL\u001b[0m\u001b[1;3m]\u001b[0m\u001b[3m Miles Peterson was successfully reached out, and is now available for\u001b[0m\n",
       "\u001b[3m                            > interaction.\u001b[0m\n"
      ]
     },
     "metadata": {},
     "output_type": "display_data"
    },
    {
     "data": {
      "text/html": [
       "<pre style=\"margin:0px;;white-space:pre;overflow-x:auto;line-height:normal;font-family:Menlo,'DejaVu Sans Mono',consolas,'Courier New',monospace\"><span style=\"font-style: italic; text-decoration: underline\">Some Corp Inc.</span><span style=\"font-style: italic\"> --&gt; </span><span style=\"font-style: italic; text-decoration: underline\">Miles Peterson</span><span style=\"font-style: italic\">: </span><span style=\"font-weight: bold; font-style: italic\">[</span><span style=\"font-style: italic\">SOCIAL</span><span style=\"font-weight: bold; font-style: italic\">]</span><span style=\"font-style: italic\"> Ava Turner reached out to you, and is now available for interaction.</span>\n",
       "</pre>\n"
      ],
      "text/plain": [
       "\u001b[3;4mSome Corp Inc.\u001b[0m\u001b[3m --> \u001b[0m\u001b[3;4mMiles Peterson\u001b[0m\u001b[3m: \u001b[0m\u001b[1;3m[\u001b[0m\u001b[3mSOCIAL\u001b[0m\u001b[1;3m]\u001b[0m\u001b[3m Ava Turner reached out to you, and is now available for interaction.\u001b[0m\n"
      ]
     },
     "metadata": {},
     "output_type": "display_data"
    },
    {
     "data": {
      "text/html": [
       "<pre style=\"margin:0px;;white-space:pre;overflow-x:auto;line-height:normal;font-family:Menlo,'DejaVu Sans Mono',consolas,'Courier New',monospace\"><span style=\"color: #00ffff; text-decoration-color: #00ffff; font-weight: bold; font-style: italic; text-decoration: underline\">Ava Turner</span><span style=\"color: #00ffff; text-decoration-color: #00ffff; font-weight: bold; font-style: italic\"> --&gt; </span><span style=\"color: #00ffff; text-decoration-color: #00ffff; font-weight: bold; font-style: italic; text-decoration: underline\">Miles Peterson</span><span style=\"color: #00ffff; text-decoration-color: #00ffff; font-weight: bold; font-style: italic\">: [CONVERSATION] Hi Miles, I hope you're doing well. Let's coordinate on our tasks for</span>\n",
       "<span style=\"color: #00ffff; text-decoration-color: #00ffff; font-weight: bold; font-style: italic\">the day.</span>\n",
       "<span style=\"color: #00ffff; text-decoration-color: #00ffff; font-weight: bold; font-style: italic\">                        &gt; Do you have any updates on your end?</span>\n",
       "</pre>\n"
      ],
      "text/plain": [
       "\u001b[1;3;4;38;5;51mAva Turner\u001b[0m\u001b[1;3;38;5;51m --> \u001b[0m\u001b[1;3;4;38;5;51mMiles Peterson\u001b[0m\u001b[1;3;38;5;51m: \u001b[0m\u001b[1;3;38;5;51m[\u001b[0m\u001b[1;3;38;5;51mCONVERSATION\u001b[0m\u001b[1;3;38;5;51m]\u001b[0m\u001b[1;3;38;5;51m Hi Miles, I hope you're doing well. Let's coordinate on our tasks for\u001b[0m\n",
       "\u001b[1;3;38;5;51mthe day.\u001b[0m\n",
       "\u001b[1;3;38;5;51m                        > Do you have any updates on your end?\u001b[0m\n"
      ]
     },
     "metadata": {},
     "output_type": "display_data"
    },
    {
     "data": {
      "text/html": [
       "<pre style=\"margin:0px;;white-space:pre;overflow-x:auto;line-height:normal;font-family:Menlo,'DejaVu Sans Mono',consolas,'Courier New',monospace\"><span style=\"color: #7fffff; text-decoration-color: #7fffff; font-style: italic; text-decoration: underline\">Miles Peterson</span><span style=\"color: #7fffff; text-decoration-color: #7fffff; font-style: italic\"> --&gt; </span><span style=\"color: #7fffff; text-decoration-color: #7fffff; font-style: italic; text-decoration: underline\">Miles Peterson</span><span style=\"color: #7fffff; text-decoration-color: #7fffff; font-style: italic\">: </span><span style=\"color: #7fffff; text-decoration-color: #7fffff; font-weight: bold; font-style: italic\">[</span><span style=\"color: #7fffff; text-decoration-color: #7fffff; font-style: italic\">THOUGHT</span><span style=\"color: #7fffff; text-decoration-color: #7fffff; font-weight: bold; font-style: italic\">]</span><span style=\"color: #7fffff; text-decoration-color: #7fffff; font-style: italic\"> I will now act a bit, and then issue DONE.</span>\n",
       "</pre>\n"
      ],
      "text/plain": [
       "\u001b[2;3;4;38;5;51mMiles Peterson\u001b[0m\u001b[2;3;38;5;51m --> \u001b[0m\u001b[2;3;4;38;5;51mMiles Peterson\u001b[0m\u001b[2;3;38;5;51m: \u001b[0m\u001b[1;2;3;38;5;51m[\u001b[0m\u001b[2;3;38;5;51mTHOUGHT\u001b[0m\u001b[1;2;3;38;5;51m]\u001b[0m\u001b[2;3;38;5;51m I will now act a bit, and then issue DONE.\u001b[0m\n"
      ]
     },
     "metadata": {},
     "output_type": "display_data"
    },
    {
     "data": {
      "text/html": [
       "<pre style=\"margin:0px;;white-space:pre;overflow-x:auto;line-height:normal;font-family:Menlo,'DejaVu Sans Mono',consolas,'Courier New',monospace\"><span style=\"color: #008000; text-decoration-color: #008000; text-decoration: underline\">Miles Peterson</span><span style=\"color: #008000; text-decoration-color: #008000\"> acts: </span><span style=\"color: #008000; text-decoration-color: #008000; font-weight: bold\">[</span><span style=\"color: #008000; text-decoration-color: #008000\">THINK</span><span style=\"color: #008000; text-decoration-color: #008000; font-weight: bold\">]</span><span style=\"color: #008000; text-decoration-color: #008000\"> I need to update Ava on the latest content strategies I've been developing and</span>\n",
       "<span style=\"color: #008000; text-decoration-color: #008000\">                            &gt; see if she has any input or needs assistance with</span>\n",
       "<span style=\"color: #008000; text-decoration-color: #008000\">                            &gt; her tasks.</span>\n",
       "</pre>\n"
      ],
      "text/plain": [
       "\u001b[4;32mMiles Peterson\u001b[0m\u001b[32m acts: \u001b[0m\u001b[1;32m[\u001b[0m\u001b[32mTHINK\u001b[0m\u001b[1;32m]\u001b[0m\u001b[32m I need to update Ava on the latest content strategies I've been developing and\u001b[0m\n",
       "\u001b[32m                            > see if she has any input or needs assistance with\u001b[0m\n",
       "\u001b[32m                            > her tasks.\u001b[0m\n"
      ]
     },
     "metadata": {},
     "output_type": "display_data"
    },
    {
     "data": {
      "text/html": [
       "<pre style=\"margin:0px;;white-space:pre;overflow-x:auto;line-height:normal;font-family:Menlo,'DejaVu Sans Mono',consolas,'Courier New',monospace\"><span style=\"color: #7fffff; text-decoration-color: #7fffff; font-style: italic; text-decoration: underline\">Miles Peterson</span><span style=\"color: #7fffff; text-decoration-color: #7fffff; font-style: italic\"> --&gt; </span><span style=\"color: #7fffff; text-decoration-color: #7fffff; font-style: italic; text-decoration: underline\">Miles Peterson</span><span style=\"color: #7fffff; text-decoration-color: #7fffff; font-style: italic\">: </span><span style=\"color: #7fffff; text-decoration-color: #7fffff; font-weight: bold; font-style: italic\">[</span><span style=\"color: #7fffff; text-decoration-color: #7fffff; font-style: italic\">THOUGHT</span><span style=\"color: #7fffff; text-decoration-color: #7fffff; font-weight: bold; font-style: italic\">]</span><span style=\"color: #7fffff; text-decoration-color: #7fffff; font-style: italic\"> I will now act a bit, and then issue DONE.</span>\n",
       "</pre>\n"
      ],
      "text/plain": [
       "\u001b[2;3;4;38;5;51mMiles Peterson\u001b[0m\u001b[2;3;38;5;51m --> \u001b[0m\u001b[2;3;4;38;5;51mMiles Peterson\u001b[0m\u001b[2;3;38;5;51m: \u001b[0m\u001b[1;2;3;38;5;51m[\u001b[0m\u001b[2;3;38;5;51mTHOUGHT\u001b[0m\u001b[1;2;3;38;5;51m]\u001b[0m\u001b[2;3;38;5;51m I will now act a bit, and then issue DONE.\u001b[0m\n"
      ]
     },
     "metadata": {},
     "output_type": "display_data"
    },
    {
     "data": {
      "text/html": [
       "<pre style=\"margin:0px;;white-space:pre;overflow-x:auto;line-height:normal;font-family:Menlo,'DejaVu Sans Mono',consolas,'Courier New',monospace\"><span style=\"color: #00d700; text-decoration-color: #00d700; font-weight: bold; text-decoration: underline\">Miles Peterson</span><span style=\"color: #00d700; text-decoration-color: #00d700; font-weight: bold\"> acts: [TALK] Hi Ava, I'm doing well, thank you. I've been working on refining our SEO</span>\n",
       "<span style=\"color: #00d700; text-decoration-color: #00d700; font-weight: bold\">                            &gt; approach for the upcoming campaign, focusing on</span>\n",
       "<span style=\"color: #00d700; text-decoration-color: #00d700; font-weight: bold\">                            &gt; integrating more long-tail keywords into our</span>\n",
       "<span style=\"color: #00d700; text-decoration-color: #00d700; font-weight: bold\">                            &gt; content. I'm also exploring a new content</span>\n",
       "<span style=\"color: #00d700; text-decoration-color: #00d700; font-weight: bold\">                            &gt; personalization tool that could help us tailor our</span>\n",
       "<span style=\"color: #00d700; text-decoration-color: #00d700; font-weight: bold\">                            &gt; messages more effectively to different audience</span>\n",
       "<span style=\"color: #00d700; text-decoration-color: #00d700; font-weight: bold\">                            &gt; segments. How are things on your end? Do you need</span>\n",
       "<span style=\"color: #00d700; text-decoration-color: #00d700; font-weight: bold\">                            &gt; support with any of your tasks?</span>\n",
       "</pre>\n"
      ],
      "text/plain": [
       "\u001b[1;4;38;5;40mMiles Peterson\u001b[0m\u001b[1;38;5;40m acts: \u001b[0m\u001b[1;38;5;40m[\u001b[0m\u001b[1;38;5;40mTALK\u001b[0m\u001b[1;38;5;40m]\u001b[0m\u001b[1;38;5;40m Hi Ava, I'm doing well, thank you. I've been working on refining our SEO\u001b[0m\n",
       "\u001b[1;38;5;40m                            > approach for the upcoming campaign, focusing on\u001b[0m\n",
       "\u001b[1;38;5;40m                            > integrating more long-tail keywords into our\u001b[0m\n",
       "\u001b[1;38;5;40m                            > content. I'm also exploring a new content\u001b[0m\n",
       "\u001b[1;38;5;40m                            > personalization tool that could help us tailor our\u001b[0m\n",
       "\u001b[1;38;5;40m                            > messages more effectively to different audience\u001b[0m\n",
       "\u001b[1;38;5;40m                            > segments. How are things on your end? Do you need\u001b[0m\n",
       "\u001b[1;38;5;40m                            > support with any of your tasks?\u001b[0m\n"
      ]
     },
     "metadata": {},
     "output_type": "display_data"
    },
    {
     "data": {
      "text/html": [
       "<pre style=\"margin:0px;;white-space:pre;overflow-x:auto;line-height:normal;font-family:Menlo,'DejaVu Sans Mono',consolas,'Courier New',monospace\"><span style=\"color: #7fffff; text-decoration-color: #7fffff; font-style: italic; text-decoration: underline\">Miles Peterson</span><span style=\"color: #7fffff; text-decoration-color: #7fffff; font-style: italic\"> --&gt; </span><span style=\"color: #7fffff; text-decoration-color: #7fffff; font-style: italic; text-decoration: underline\">Miles Peterson</span><span style=\"color: #7fffff; text-decoration-color: #7fffff; font-style: italic\">: </span><span style=\"color: #7fffff; text-decoration-color: #7fffff; font-weight: bold; font-style: italic\">[</span><span style=\"color: #7fffff; text-decoration-color: #7fffff; font-style: italic\">THOUGHT</span><span style=\"color: #7fffff; text-decoration-color: #7fffff; font-weight: bold; font-style: italic\">]</span><span style=\"color: #7fffff; text-decoration-color: #7fffff; font-style: italic\"> I will now act a bit, and then issue DONE.</span>\n",
       "</pre>\n"
      ],
      "text/plain": [
       "\u001b[2;3;4;38;5;51mMiles Peterson\u001b[0m\u001b[2;3;38;5;51m --> \u001b[0m\u001b[2;3;4;38;5;51mMiles Peterson\u001b[0m\u001b[2;3;38;5;51m: \u001b[0m\u001b[1;2;3;38;5;51m[\u001b[0m\u001b[2;3;38;5;51mTHOUGHT\u001b[0m\u001b[1;2;3;38;5;51m]\u001b[0m\u001b[2;3;38;5;51m I will now act a bit, and then issue DONE.\u001b[0m\n"
      ]
     },
     "metadata": {},
     "output_type": "display_data"
    },
    {
     "data": {
      "text/html": [
       "<pre style=\"margin:0px;;white-space:pre;overflow-x:auto;line-height:normal;font-family:Menlo,'DejaVu Sans Mono',consolas,'Courier New',monospace\"><span style=\"color: #7fffff; text-decoration-color: #7fffff; font-style: italic; text-decoration: underline\">Miles Peterson</span><span style=\"color: #7fffff; text-decoration-color: #7fffff; font-style: italic\"> --&gt; </span><span style=\"color: #7fffff; text-decoration-color: #7fffff; font-style: italic; text-decoration: underline\">Miles Peterson</span><span style=\"color: #7fffff; text-decoration-color: #7fffff; font-style: italic\">: </span><span style=\"color: #7fffff; text-decoration-color: #7fffff; font-weight: bold; font-style: italic\">[</span><span style=\"color: #7fffff; text-decoration-color: #7fffff; font-style: italic\">THOUGHT</span><span style=\"color: #7fffff; text-decoration-color: #7fffff; font-weight: bold; font-style: italic\">]</span><span style=\"color: #7fffff; text-decoration-color: #7fffff; font-style: italic\"> I will now act a bit, and then issue DONE.</span>\n",
       "</pre>\n"
      ],
      "text/plain": [
       "\u001b[2;3;4;38;5;51mMiles Peterson\u001b[0m\u001b[2;3;38;5;51m --> \u001b[0m\u001b[2;3;4;38;5;51mMiles Peterson\u001b[0m\u001b[2;3;38;5;51m: \u001b[0m\u001b[1;2;3;38;5;51m[\u001b[0m\u001b[2;3;38;5;51mTHOUGHT\u001b[0m\u001b[1;2;3;38;5;51m]\u001b[0m\u001b[2;3;38;5;51m I will now act a bit, and then issue DONE.\u001b[0m\n"
      ]
     },
     "metadata": {},
     "output_type": "display_data"
    },
    {
     "data": {
      "text/html": [
       "<pre style=\"margin:0px;;white-space:pre;overflow-x:auto;line-height:normal;font-family:Menlo,'DejaVu Sans Mono',consolas,'Courier New',monospace\"><span style=\"color: #d0d0d0; text-decoration-color: #d0d0d0; text-decoration: underline\">Miles Peterson</span><span style=\"color: #d0d0d0; text-decoration-color: #d0d0d0\"> acts: </span><span style=\"color: #d0d0d0; text-decoration-color: #d0d0d0; font-weight: bold\">[</span><span style=\"color: #d0d0d0; text-decoration-color: #d0d0d0\">DONE</span><span style=\"color: #d0d0d0; text-decoration-color: #d0d0d0; font-weight: bold\">]</span><span style=\"color: #d0d0d0; text-decoration-color: #d0d0d0\"> </span>\n",
       "</pre>\n"
      ],
      "text/plain": [
       "\u001b[4;38;5;252mMiles Peterson\u001b[0m\u001b[38;5;252m acts: \u001b[0m\u001b[1;38;5;252m[\u001b[0m\u001b[38;5;252mDONE\u001b[0m\u001b[1;38;5;252m]\u001b[0m\u001b[38;5;252m \u001b[0m\n"
      ]
     },
     "metadata": {},
     "output_type": "display_data"
    },
    {
     "data": {
      "text/html": [
       "<pre style=\"margin:0px;;white-space:pre;overflow-x:auto;line-height:normal;font-family:Menlo,'DejaVu Sans Mono',consolas,'Courier New',monospace\"><span style=\"color: #00ffff; text-decoration-color: #00ffff; font-weight: bold; font-style: italic; text-decoration: underline\">Miles Peterson</span><span style=\"color: #00ffff; text-decoration-color: #00ffff; font-weight: bold; font-style: italic\"> --&gt; </span><span style=\"color: #00ffff; text-decoration-color: #00ffff; font-weight: bold; font-style: italic; text-decoration: underline\">Ava Turner</span><span style=\"color: #00ffff; text-decoration-color: #00ffff; font-weight: bold; font-style: italic\">: [CONVERSATION] Hi Ava, I'm doing well, thank you. I've been working on refining our </span>\n",
       "<span style=\"color: #00ffff; text-decoration-color: #00ffff; font-weight: bold; font-style: italic\">SEO</span>\n",
       "<span style=\"color: #00ffff; text-decoration-color: #00ffff; font-weight: bold; font-style: italic\">                            &gt; approach for the upcoming campaign, focusing on</span>\n",
       "<span style=\"color: #00ffff; text-decoration-color: #00ffff; font-weight: bold; font-style: italic\">                            &gt; integrating more long-tail keywords into our</span>\n",
       "<span style=\"color: #00ffff; text-decoration-color: #00ffff; font-weight: bold; font-style: italic\">                            &gt; content. I'm also exploring a new content</span>\n",
       "<span style=\"color: #00ffff; text-decoration-color: #00ffff; font-weight: bold; font-style: italic\">                            &gt; personalization tool that could help us tailor our</span>\n",
       "<span style=\"color: #00ffff; text-decoration-color: #00ffff; font-weight: bold; font-style: italic\">                            &gt; messages more effectively to different audience</span>\n",
       "<span style=\"color: #00ffff; text-decoration-color: #00ffff; font-weight: bold; font-style: italic\">                            &gt; segments. How are things on your end? Do you need</span>\n",
       "<span style=\"color: #00ffff; text-decoration-color: #00ffff; font-weight: bold; font-style: italic\">                            &gt; support with any of your tasks?</span>\n",
       "</pre>\n"
      ],
      "text/plain": [
       "\u001b[1;3;4;38;5;51mMiles Peterson\u001b[0m\u001b[1;3;38;5;51m --> \u001b[0m\u001b[1;3;4;38;5;51mAva Turner\u001b[0m\u001b[1;3;38;5;51m: \u001b[0m\u001b[1;3;38;5;51m[\u001b[0m\u001b[1;3;38;5;51mCONVERSATION\u001b[0m\u001b[1;3;38;5;51m]\u001b[0m\u001b[1;3;38;5;51m Hi Ava, I'm doing well, thank you. I've been working on refining our \u001b[0m\n",
       "\u001b[1;3;38;5;51mSEO\u001b[0m\n",
       "\u001b[1;3;38;5;51m                            > approach for the upcoming campaign, focusing on\u001b[0m\n",
       "\u001b[1;3;38;5;51m                            > integrating more long-tail keywords into our\u001b[0m\n",
       "\u001b[1;3;38;5;51m                            > content. I'm also exploring a new content\u001b[0m\n",
       "\u001b[1;3;38;5;51m                            > personalization tool that could help us tailor our\u001b[0m\n",
       "\u001b[1;3;38;5;51m                            > messages more effectively to different audience\u001b[0m\n",
       "\u001b[1;3;38;5;51m                            > segments. How are things on your end? Do you need\u001b[0m\n",
       "\u001b[1;3;38;5;51m                            > support with any of your tasks?\u001b[0m\n"
      ]
     },
     "metadata": {},
     "output_type": "display_data"
    },
    {
     "data": {
      "text/html": [
       "<pre style=\"margin:0px;;white-space:pre;overflow-x:auto;line-height:normal;font-family:Menlo,'DejaVu Sans Mono',consolas,'Courier New',monospace\"><span style=\"color: #00ff00; text-decoration-color: #00ff00\">─────────────────────────────────────────── </span>Some Corp Inc. step <span style=\"color: #008080; text-decoration-color: #008080; font-weight: bold\">2</span> of <span style=\"color: #008080; text-decoration-color: #008080; font-weight: bold\">2</span><span style=\"color: #00ff00; text-decoration-color: #00ff00\"> ────────────────────────────────────────────</span>\n",
       "</pre>\n"
      ],
      "text/plain": [
       "\u001b[92m─────────────────────────────────────────── \u001b[0mSome Corp Inc. step \u001b[1;36m2\u001b[0m of \u001b[1;36m2\u001b[0m\u001b[92m ────────────────────────────────────────────\u001b[0m\n"
      ]
     },
     "metadata": {},
     "output_type": "display_data"
    },
    {
     "data": {
      "text/html": [
       "<pre style=\"margin:0px;;white-space:pre;overflow-x:auto;line-height:normal;font-family:Menlo,'DejaVu Sans Mono',consolas,'Courier New',monospace\"><span style=\"color: #7fffff; text-decoration-color: #7fffff; font-style: italic; text-decoration: underline\">Ava Turner</span><span style=\"color: #7fffff; text-decoration-color: #7fffff; font-style: italic\"> --&gt; </span><span style=\"color: #7fffff; text-decoration-color: #7fffff; font-style: italic; text-decoration: underline\">Ava Turner</span><span style=\"color: #7fffff; text-decoration-color: #7fffff; font-style: italic\">: </span><span style=\"color: #7fffff; text-decoration-color: #7fffff; font-weight: bold; font-style: italic\">[</span><span style=\"color: #7fffff; text-decoration-color: #7fffff; font-style: italic\">THOUGHT</span><span style=\"color: #7fffff; text-decoration-color: #7fffff; font-weight: bold; font-style: italic\">]</span><span style=\"color: #7fffff; text-decoration-color: #7fffff; font-style: italic\"> I will now act a bit, and then issue DONE.</span>\n",
       "</pre>\n"
      ],
      "text/plain": [
       "\u001b[2;3;4;38;5;51mAva Turner\u001b[0m\u001b[2;3;38;5;51m --> \u001b[0m\u001b[2;3;4;38;5;51mAva Turner\u001b[0m\u001b[2;3;38;5;51m: \u001b[0m\u001b[1;2;3;38;5;51m[\u001b[0m\u001b[2;3;38;5;51mTHOUGHT\u001b[0m\u001b[1;2;3;38;5;51m]\u001b[0m\u001b[2;3;38;5;51m I will now act a bit, and then issue DONE.\u001b[0m\n"
      ]
     },
     "metadata": {},
     "output_type": "display_data"
    },
    {
     "data": {
      "text/html": [
       "<pre style=\"margin:0px;;white-space:pre;overflow-x:auto;line-height:normal;font-family:Menlo,'DejaVu Sans Mono',consolas,'Courier New',monospace\"><span style=\"color: #00d700; text-decoration-color: #00d700; font-weight: bold; text-decoration: underline\">Ava Turner</span><span style=\"color: #00d700; text-decoration-color: #00d700; font-weight: bold\"> acts: [TALK] That sounds great, Miles! I've been analyzing the data from our last campaign</span>\n",
       "<span style=\"color: #00d700; text-decoration-color: #00d700; font-weight: bold\">                        &gt; and noticed an uptick in engagement from our email</span>\n",
       "<span style=\"color: #00d700; text-decoration-color: #00d700; font-weight: bold\">                        &gt; newsletters. I'm thinking of ways to capitalize on</span>\n",
       "<span style=\"color: #00d700; text-decoration-color: #00d700; font-weight: bold\">                        &gt; that. The content personalization tool you mentioned</span>\n",
       "<span style=\"color: #00d700; text-decoration-color: #00d700; font-weight: bold\">                        &gt; could be very useful for this. Let's set up a meeting</span>\n",
       "<span style=\"color: #00d700; text-decoration-color: #00d700; font-weight: bold\">                        &gt; to discuss how we can integrate it with our current</span>\n",
       "<span style=\"color: #00d700; text-decoration-color: #00d700; font-weight: bold\">                        &gt; strategy. Also, I could use your creative input on a</span>\n",
       "<span style=\"color: #00d700; text-decoration-color: #00d700; font-weight: bold\">                        &gt; new blog post series I'm planning.</span>\n",
       "</pre>\n"
      ],
      "text/plain": [
       "\u001b[1;4;38;5;40mAva Turner\u001b[0m\u001b[1;38;5;40m acts: \u001b[0m\u001b[1;38;5;40m[\u001b[0m\u001b[1;38;5;40mTALK\u001b[0m\u001b[1;38;5;40m]\u001b[0m\u001b[1;38;5;40m That sounds great, Miles! I've been analyzing the data from our last campaign\u001b[0m\n",
       "\u001b[1;38;5;40m                        > and noticed an uptick in engagement from our email\u001b[0m\n",
       "\u001b[1;38;5;40m                        > newsletters. I'm thinking of ways to capitalize on\u001b[0m\n",
       "\u001b[1;38;5;40m                        > that. The content personalization tool you mentioned\u001b[0m\n",
       "\u001b[1;38;5;40m                        > could be very useful for this. Let's set up a meeting\u001b[0m\n",
       "\u001b[1;38;5;40m                        > to discuss how we can integrate it with our current\u001b[0m\n",
       "\u001b[1;38;5;40m                        > strategy. Also, I could use your creative input on a\u001b[0m\n",
       "\u001b[1;38;5;40m                        > new blog post series I'm planning.\u001b[0m\n"
      ]
     },
     "metadata": {},
     "output_type": "display_data"
    },
    {
     "data": {
      "text/html": [
       "<pre style=\"margin:0px;;white-space:pre;overflow-x:auto;line-height:normal;font-family:Menlo,'DejaVu Sans Mono',consolas,'Courier New',monospace\"><span style=\"color: #7fffff; text-decoration-color: #7fffff; font-style: italic; text-decoration: underline\">Ava Turner</span><span style=\"color: #7fffff; text-decoration-color: #7fffff; font-style: italic\"> --&gt; </span><span style=\"color: #7fffff; text-decoration-color: #7fffff; font-style: italic; text-decoration: underline\">Ava Turner</span><span style=\"color: #7fffff; text-decoration-color: #7fffff; font-style: italic\">: </span><span style=\"color: #7fffff; text-decoration-color: #7fffff; font-weight: bold; font-style: italic\">[</span><span style=\"color: #7fffff; text-decoration-color: #7fffff; font-style: italic\">THOUGHT</span><span style=\"color: #7fffff; text-decoration-color: #7fffff; font-weight: bold; font-style: italic\">]</span><span style=\"color: #7fffff; text-decoration-color: #7fffff; font-style: italic\"> I will now act a bit, and then issue DONE.</span>\n",
       "</pre>\n"
      ],
      "text/plain": [
       "\u001b[2;3;4;38;5;51mAva Turner\u001b[0m\u001b[2;3;38;5;51m --> \u001b[0m\u001b[2;3;4;38;5;51mAva Turner\u001b[0m\u001b[2;3;38;5;51m: \u001b[0m\u001b[1;2;3;38;5;51m[\u001b[0m\u001b[2;3;38;5;51mTHOUGHT\u001b[0m\u001b[1;2;3;38;5;51m]\u001b[0m\u001b[2;3;38;5;51m I will now act a bit, and then issue DONE.\u001b[0m\n"
      ]
     },
     "metadata": {},
     "output_type": "display_data"
    },
    {
     "data": {
      "text/html": [
       "<pre style=\"margin:0px;;white-space:pre;overflow-x:auto;line-height:normal;font-family:Menlo,'DejaVu Sans Mono',consolas,'Courier New',monospace\"><span style=\"color: #d0d0d0; text-decoration-color: #d0d0d0; text-decoration: underline\">Ava Turner</span><span style=\"color: #d0d0d0; text-decoration-color: #d0d0d0\"> acts: </span><span style=\"color: #d0d0d0; text-decoration-color: #d0d0d0; font-weight: bold\">[</span><span style=\"color: #d0d0d0; text-decoration-color: #d0d0d0\">DONE</span><span style=\"color: #d0d0d0; text-decoration-color: #d0d0d0; font-weight: bold\">]</span><span style=\"color: #d0d0d0; text-decoration-color: #d0d0d0\"> </span>\n",
       "</pre>\n"
      ],
      "text/plain": [
       "\u001b[4;38;5;252mAva Turner\u001b[0m\u001b[38;5;252m acts: \u001b[0m\u001b[1;38;5;252m[\u001b[0m\u001b[38;5;252mDONE\u001b[0m\u001b[1;38;5;252m]\u001b[0m\u001b[38;5;252m \u001b[0m\n"
      ]
     },
     "metadata": {},
     "output_type": "display_data"
    },
    {
     "data": {
      "text/html": [
       "<pre style=\"margin:0px;;white-space:pre;overflow-x:auto;line-height:normal;font-family:Menlo,'DejaVu Sans Mono',consolas,'Courier New',monospace\"><span style=\"color: #00ffff; text-decoration-color: #00ffff; font-weight: bold; font-style: italic; text-decoration: underline\">Ava Turner</span><span style=\"color: #00ffff; text-decoration-color: #00ffff; font-weight: bold; font-style: italic\"> --&gt; </span><span style=\"color: #00ffff; text-decoration-color: #00ffff; font-weight: bold; font-style: italic; text-decoration: underline\">Miles Peterson</span><span style=\"color: #00ffff; text-decoration-color: #00ffff; font-weight: bold; font-style: italic\">: [CONVERSATION] That sounds great, Miles! I've been analyzing the data from our last </span>\n",
       "<span style=\"color: #00ffff; text-decoration-color: #00ffff; font-weight: bold; font-style: italic\">campaign</span>\n",
       "<span style=\"color: #00ffff; text-decoration-color: #00ffff; font-weight: bold; font-style: italic\">                        &gt; and noticed an uptick in engagement from our email</span>\n",
       "<span style=\"color: #00ffff; text-decoration-color: #00ffff; font-weight: bold; font-style: italic\">                        &gt; newsletters. I'm thinking of ways to capitalize on</span>\n",
       "<span style=\"color: #00ffff; text-decoration-color: #00ffff; font-weight: bold; font-style: italic\">                        &gt; that. The content personalization tool you mentioned</span>\n",
       "<span style=\"color: #00ffff; text-decoration-color: #00ffff; font-weight: bold; font-style: italic\">                        &gt; could be very useful for this. Let's set up a meeting</span>\n",
       "<span style=\"color: #00ffff; text-decoration-color: #00ffff; font-weight: bold; font-style: italic\">                        &gt; to discuss how we can integrate it with our current</span>\n",
       "<span style=\"color: #00ffff; text-decoration-color: #00ffff; font-weight: bold; font-style: italic\">                        &gt; strategy. Also, I could use your creative input on a</span>\n",
       "<span style=\"color: #00ffff; text-decoration-color: #00ffff; font-weight: bold; font-style: italic\">                        &gt; new blog post series I'm planning.</span>\n",
       "</pre>\n"
      ],
      "text/plain": [
       "\u001b[1;3;4;38;5;51mAva Turner\u001b[0m\u001b[1;3;38;5;51m --> \u001b[0m\u001b[1;3;4;38;5;51mMiles Peterson\u001b[0m\u001b[1;3;38;5;51m: \u001b[0m\u001b[1;3;38;5;51m[\u001b[0m\u001b[1;3;38;5;51mCONVERSATION\u001b[0m\u001b[1;3;38;5;51m]\u001b[0m\u001b[1;3;38;5;51m That sounds great, Miles! I've been analyzing the data from our last \u001b[0m\n",
       "\u001b[1;3;38;5;51mcampaign\u001b[0m\n",
       "\u001b[1;3;38;5;51m                        > and noticed an uptick in engagement from our email\u001b[0m\n",
       "\u001b[1;3;38;5;51m                        > newsletters. I'm thinking of ways to capitalize on\u001b[0m\n",
       "\u001b[1;3;38;5;51m                        > that. The content personalization tool you mentioned\u001b[0m\n",
       "\u001b[1;3;38;5;51m                        > could be very useful for this. Let's set up a meeting\u001b[0m\n",
       "\u001b[1;3;38;5;51m                        > to discuss how we can integrate it with our current\u001b[0m\n",
       "\u001b[1;3;38;5;51m                        > strategy. Also, I could use your creative input on a\u001b[0m\n",
       "\u001b[1;3;38;5;51m                        > new blog post series I'm planning.\u001b[0m\n"
      ]
     },
     "metadata": {},
     "output_type": "display_data"
    },
    {
     "data": {
      "text/html": [
       "<pre style=\"margin:0px;;white-space:pre;overflow-x:auto;line-height:normal;font-family:Menlo,'DejaVu Sans Mono',consolas,'Courier New',monospace\"><span style=\"color: #7fffff; text-decoration-color: #7fffff; font-style: italic; text-decoration: underline\">Miles Peterson</span><span style=\"color: #7fffff; text-decoration-color: #7fffff; font-style: italic\"> --&gt; </span><span style=\"color: #7fffff; text-decoration-color: #7fffff; font-style: italic; text-decoration: underline\">Miles Peterson</span><span style=\"color: #7fffff; text-decoration-color: #7fffff; font-style: italic\">: </span><span style=\"color: #7fffff; text-decoration-color: #7fffff; font-weight: bold; font-style: italic\">[</span><span style=\"color: #7fffff; text-decoration-color: #7fffff; font-style: italic\">THOUGHT</span><span style=\"color: #7fffff; text-decoration-color: #7fffff; font-weight: bold; font-style: italic\">]</span><span style=\"color: #7fffff; text-decoration-color: #7fffff; font-style: italic\"> I will now act a bit, and then issue DONE.</span>\n",
       "</pre>\n"
      ],
      "text/plain": [
       "\u001b[2;3;4;38;5;51mMiles Peterson\u001b[0m\u001b[2;3;38;5;51m --> \u001b[0m\u001b[2;3;4;38;5;51mMiles Peterson\u001b[0m\u001b[2;3;38;5;51m: \u001b[0m\u001b[1;2;3;38;5;51m[\u001b[0m\u001b[2;3;38;5;51mTHOUGHT\u001b[0m\u001b[1;2;3;38;5;51m]\u001b[0m\u001b[2;3;38;5;51m I will now act a bit, and then issue DONE.\u001b[0m\n"
      ]
     },
     "metadata": {},
     "output_type": "display_data"
    },
    {
     "data": {
      "text/html": [
       "<pre style=\"margin:0px;;white-space:pre;overflow-x:auto;line-height:normal;font-family:Menlo,'DejaVu Sans Mono',consolas,'Courier New',monospace\"><span style=\"color: #008000; text-decoration-color: #008000; text-decoration: underline\">Miles Peterson</span><span style=\"color: #008000; text-decoration-color: #008000\"> acts: </span><span style=\"color: #008000; text-decoration-color: #008000; font-weight: bold\">[</span><span style=\"color: #008000; text-decoration-color: #008000\">THINK</span><span style=\"color: #008000; text-decoration-color: #008000; font-weight: bold\">]</span><span style=\"color: #008000; text-decoration-color: #008000\"> I should schedule a meeting with Ava to discuss the integration of the content</span>\n",
       "<span style=\"color: #008000; text-decoration-color: #008000\">                            &gt; personalization tool and offer my assistance with</span>\n",
       "<span style=\"color: #008000; text-decoration-color: #008000\">                            &gt; the blog post series she's planning.</span>\n",
       "</pre>\n"
      ],
      "text/plain": [
       "\u001b[4;32mMiles Peterson\u001b[0m\u001b[32m acts: \u001b[0m\u001b[1;32m[\u001b[0m\u001b[32mTHINK\u001b[0m\u001b[1;32m]\u001b[0m\u001b[32m I should schedule a meeting with Ava to discuss the integration of the content\u001b[0m\n",
       "\u001b[32m                            > personalization tool and offer my assistance with\u001b[0m\n",
       "\u001b[32m                            > the blog post series she's planning.\u001b[0m\n"
      ]
     },
     "metadata": {},
     "output_type": "display_data"
    },
    {
     "data": {
      "text/html": [
       "<pre style=\"margin:0px;;white-space:pre;overflow-x:auto;line-height:normal;font-family:Menlo,'DejaVu Sans Mono',consolas,'Courier New',monospace\"><span style=\"color: #7fffff; text-decoration-color: #7fffff; font-style: italic; text-decoration: underline\">Miles Peterson</span><span style=\"color: #7fffff; text-decoration-color: #7fffff; font-style: italic\"> --&gt; </span><span style=\"color: #7fffff; text-decoration-color: #7fffff; font-style: italic; text-decoration: underline\">Miles Peterson</span><span style=\"color: #7fffff; text-decoration-color: #7fffff; font-style: italic\">: </span><span style=\"color: #7fffff; text-decoration-color: #7fffff; font-weight: bold; font-style: italic\">[</span><span style=\"color: #7fffff; text-decoration-color: #7fffff; font-style: italic\">THOUGHT</span><span style=\"color: #7fffff; text-decoration-color: #7fffff; font-weight: bold; font-style: italic\">]</span><span style=\"color: #7fffff; text-decoration-color: #7fffff; font-style: italic\"> I will now act a bit, and then issue DONE.</span>\n",
       "</pre>\n"
      ],
      "text/plain": [
       "\u001b[2;3;4;38;5;51mMiles Peterson\u001b[0m\u001b[2;3;38;5;51m --> \u001b[0m\u001b[2;3;4;38;5;51mMiles Peterson\u001b[0m\u001b[2;3;38;5;51m: \u001b[0m\u001b[1;2;3;38;5;51m[\u001b[0m\u001b[2;3;38;5;51mTHOUGHT\u001b[0m\u001b[1;2;3;38;5;51m]\u001b[0m\u001b[2;3;38;5;51m I will now act a bit, and then issue DONE.\u001b[0m\n"
      ]
     },
     "metadata": {},
     "output_type": "display_data"
    },
    {
     "data": {
      "text/html": [
       "<pre style=\"margin:0px;;white-space:pre;overflow-x:auto;line-height:normal;font-family:Menlo,'DejaVu Sans Mono',consolas,'Courier New',monospace\"><span style=\"color: #00d700; text-decoration-color: #00d700; font-weight: bold; text-decoration: underline\">Miles Peterson</span><span style=\"color: #00d700; text-decoration-color: #00d700; font-weight: bold\"> acts: [TALK] That's excellent news about the email newsletters, Ava. I'm glad to hear about</span>\n",
       "<span style=\"color: #00d700; text-decoration-color: #00d700; font-weight: bold\">                            &gt; the increased engagement. I agree that a meeting</span>\n",
       "<span style=\"color: #00d700; text-decoration-color: #00d700; font-weight: bold\">                            &gt; would be beneficial for us to align our</span>\n",
       "<span style=\"color: #00d700; text-decoration-color: #00d700; font-weight: bold\">                            &gt; strategies. How about we schedule it for tomorrow</span>\n",
       "<span style=\"color: #00d700; text-decoration-color: #00d700; font-weight: bold\">                            &gt; morning? I'm also excited to hear more about your</span>\n",
       "<span style=\"color: #00d700; text-decoration-color: #00d700; font-weight: bold\">                            &gt; ideas for the new blog post series and would be</span>\n",
       "<span style=\"color: #00d700; text-decoration-color: #00d700; font-weight: bold\">                            &gt; happy to provide my creative input. Let's include</span>\n",
       "<span style=\"color: #00d700; text-decoration-color: #00d700; font-weight: bold\">                            &gt; that in our agenda for the meeting as well.</span>\n",
       "</pre>\n"
      ],
      "text/plain": [
       "\u001b[1;4;38;5;40mMiles Peterson\u001b[0m\u001b[1;38;5;40m acts: \u001b[0m\u001b[1;38;5;40m[\u001b[0m\u001b[1;38;5;40mTALK\u001b[0m\u001b[1;38;5;40m]\u001b[0m\u001b[1;38;5;40m That's excellent news about the email newsletters, Ava. I'm glad to hear about\u001b[0m\n",
       "\u001b[1;38;5;40m                            > the increased engagement. I agree that a meeting\u001b[0m\n",
       "\u001b[1;38;5;40m                            > would be beneficial for us to align our\u001b[0m\n",
       "\u001b[1;38;5;40m                            > strategies. How about we schedule it for tomorrow\u001b[0m\n",
       "\u001b[1;38;5;40m                            > morning? I'm also excited to hear more about your\u001b[0m\n",
       "\u001b[1;38;5;40m                            > ideas for the new blog post series and would be\u001b[0m\n",
       "\u001b[1;38;5;40m                            > happy to provide my creative input. Let's include\u001b[0m\n",
       "\u001b[1;38;5;40m                            > that in our agenda for the meeting as well.\u001b[0m\n"
      ]
     },
     "metadata": {},
     "output_type": "display_data"
    },
    {
     "data": {
      "text/html": [
       "<pre style=\"margin:0px;;white-space:pre;overflow-x:auto;line-height:normal;font-family:Menlo,'DejaVu Sans Mono',consolas,'Courier New',monospace\"><span style=\"color: #7fffff; text-decoration-color: #7fffff; font-style: italic; text-decoration: underline\">Miles Peterson</span><span style=\"color: #7fffff; text-decoration-color: #7fffff; font-style: italic\"> --&gt; </span><span style=\"color: #7fffff; text-decoration-color: #7fffff; font-style: italic; text-decoration: underline\">Miles Peterson</span><span style=\"color: #7fffff; text-decoration-color: #7fffff; font-style: italic\">: </span><span style=\"color: #7fffff; text-decoration-color: #7fffff; font-weight: bold; font-style: italic\">[</span><span style=\"color: #7fffff; text-decoration-color: #7fffff; font-style: italic\">THOUGHT</span><span style=\"color: #7fffff; text-decoration-color: #7fffff; font-weight: bold; font-style: italic\">]</span><span style=\"color: #7fffff; text-decoration-color: #7fffff; font-style: italic\"> I will now act a bit, and then issue DONE.</span>\n",
       "</pre>\n"
      ],
      "text/plain": [
       "\u001b[2;3;4;38;5;51mMiles Peterson\u001b[0m\u001b[2;3;38;5;51m --> \u001b[0m\u001b[2;3;4;38;5;51mMiles Peterson\u001b[0m\u001b[2;3;38;5;51m: \u001b[0m\u001b[1;2;3;38;5;51m[\u001b[0m\u001b[2;3;38;5;51mTHOUGHT\u001b[0m\u001b[1;2;3;38;5;51m]\u001b[0m\u001b[2;3;38;5;51m I will now act a bit, and then issue DONE.\u001b[0m\n"
      ]
     },
     "metadata": {},
     "output_type": "display_data"
    },
    {
     "data": {
      "text/html": [
       "<pre style=\"margin:0px;;white-space:pre;overflow-x:auto;line-height:normal;font-family:Menlo,'DejaVu Sans Mono',consolas,'Courier New',monospace\"><span style=\"color: #d0d0d0; text-decoration-color: #d0d0d0; text-decoration: underline\">Miles Peterson</span><span style=\"color: #d0d0d0; text-decoration-color: #d0d0d0\"> acts: </span><span style=\"color: #d0d0d0; text-decoration-color: #d0d0d0; font-weight: bold\">[</span><span style=\"color: #d0d0d0; text-decoration-color: #d0d0d0\">DONE</span><span style=\"color: #d0d0d0; text-decoration-color: #d0d0d0; font-weight: bold\">]</span><span style=\"color: #d0d0d0; text-decoration-color: #d0d0d0\"> </span>\n",
       "</pre>\n"
      ],
      "text/plain": [
       "\u001b[4;38;5;252mMiles Peterson\u001b[0m\u001b[38;5;252m acts: \u001b[0m\u001b[1;38;5;252m[\u001b[0m\u001b[38;5;252mDONE\u001b[0m\u001b[1;38;5;252m]\u001b[0m\u001b[38;5;252m \u001b[0m\n"
      ]
     },
     "metadata": {},
     "output_type": "display_data"
    },
    {
     "data": {
      "text/html": [
       "<pre style=\"margin:0px;;white-space:pre;overflow-x:auto;line-height:normal;font-family:Menlo,'DejaVu Sans Mono',consolas,'Courier New',monospace\"><span style=\"color: #00ffff; text-decoration-color: #00ffff; font-weight: bold; font-style: italic; text-decoration: underline\">Miles Peterson</span><span style=\"color: #00ffff; text-decoration-color: #00ffff; font-weight: bold; font-style: italic\"> --&gt; </span><span style=\"color: #00ffff; text-decoration-color: #00ffff; font-weight: bold; font-style: italic; text-decoration: underline\">Ava Turner</span><span style=\"color: #00ffff; text-decoration-color: #00ffff; font-weight: bold; font-style: italic\">: [CONVERSATION] That's excellent news about the email newsletters, Ava. I'm glad to </span>\n",
       "<span style=\"color: #00ffff; text-decoration-color: #00ffff; font-weight: bold; font-style: italic\">hear about</span>\n",
       "<span style=\"color: #00ffff; text-decoration-color: #00ffff; font-weight: bold; font-style: italic\">                            &gt; the increased engagement. I agree that a meeting</span>\n",
       "<span style=\"color: #00ffff; text-decoration-color: #00ffff; font-weight: bold; font-style: italic\">                            &gt; would be beneficial for us to align our</span>\n",
       "<span style=\"color: #00ffff; text-decoration-color: #00ffff; font-weight: bold; font-style: italic\">                            &gt; strategies. How about we schedule it for tomorrow</span>\n",
       "<span style=\"color: #00ffff; text-decoration-color: #00ffff; font-weight: bold; font-style: italic\">                            &gt; morning? I'm also excited to hear more about your</span>\n",
       "<span style=\"color: #00ffff; text-decoration-color: #00ffff; font-weight: bold; font-style: italic\">                            &gt; ideas for the new blog post series and would be</span>\n",
       "<span style=\"color: #00ffff; text-decoration-color: #00ffff; font-weight: bold; font-style: italic\">                            &gt; happy to provide my creative input. Let's include</span>\n",
       "<span style=\"color: #00ffff; text-decoration-color: #00ffff; font-weight: bold; font-style: italic\">                            &gt; that in our agenda for the meeting as well.</span>\n",
       "</pre>\n"
      ],
      "text/plain": [
       "\u001b[1;3;4;38;5;51mMiles Peterson\u001b[0m\u001b[1;3;38;5;51m --> \u001b[0m\u001b[1;3;4;38;5;51mAva Turner\u001b[0m\u001b[1;3;38;5;51m: \u001b[0m\u001b[1;3;38;5;51m[\u001b[0m\u001b[1;3;38;5;51mCONVERSATION\u001b[0m\u001b[1;3;38;5;51m]\u001b[0m\u001b[1;3;38;5;51m That's excellent news about the email newsletters, Ava. I'm glad to \u001b[0m\n",
       "\u001b[1;3;38;5;51mhear about\u001b[0m\n",
       "\u001b[1;3;38;5;51m                            > the increased engagement. I agree that a meeting\u001b[0m\n",
       "\u001b[1;3;38;5;51m                            > would be beneficial for us to align our\u001b[0m\n",
       "\u001b[1;3;38;5;51m                            > strategies. How about we schedule it for tomorrow\u001b[0m\n",
       "\u001b[1;3;38;5;51m                            > morning? I'm also excited to hear more about your\u001b[0m\n",
       "\u001b[1;3;38;5;51m                            > ideas for the new blog post series and would be\u001b[0m\n",
       "\u001b[1;3;38;5;51m                            > happy to provide my creative input. Let's include\u001b[0m\n",
       "\u001b[1;3;38;5;51m                            > that in our agenda for the meeting as well.\u001b[0m\n"
      ]
     },
     "metadata": {},
     "output_type": "display_data"
    }
   ],
   "source": [
    "company.run(2)"
   ]
  },
  {
   "cell_type": "code",
   "execution_count": null,
   "metadata": {},
   "outputs": [],
   "source": []
  },
  {
   "cell_type": "markdown",
   "metadata": {},
   "source": [
    "We can now extract the conversations, which form the synthetic corpus we wanted."
   ]
  },
  {
   "cell_type": "code",
   "execution_count": 8,
   "metadata": {},
   "outputs": [
    {
     "data": {
      "text/html": [
       "<pre style=\"margin:0px;;white-space:pre;overflow-x:auto;line-height:normal;font-family:Menlo,'DejaVu Sans Mono',consolas,'Courier New',monospace\"><span style=\"color: #00ffff; text-decoration-color: #00ffff; font-weight: bold; font-style: italic; text-decoration: underline\">USER</span><span style=\"color: #00ffff; text-decoration-color: #00ffff; font-weight: bold; font-style: italic\"> --&gt; </span><span style=\"color: #00ffff; text-decoration-color: #00ffff; font-weight: bold; font-style: italic; text-decoration: underline\">Ava Turner</span><span style=\"color: #00ffff; text-decoration-color: #00ffff; font-weight: bold; font-style: italic\">: [CONVERSATION] Message each other to get work done.</span>\n",
       "<span style=\"color: #7fffff; text-decoration-color: #7fffff; font-weight: bold; font-style: italic; text-decoration: underline\">Ava Turner</span><span style=\"color: #7fffff; text-decoration-color: #7fffff; font-weight: bold; font-style: italic\"> --&gt; </span><span style=\"color: #7fffff; text-decoration-color: #7fffff; font-weight: bold; font-style: italic; text-decoration: underline\">Ava Turner</span><span style=\"color: #7fffff; text-decoration-color: #7fffff; font-weight: bold; font-style: italic\">: [THOUGHT] I will now act a bit, and then issue DONE.</span>\n",
       "<span style=\"color: #7fbf7f; text-decoration-color: #7fbf7f; font-weight: bold; font-style: italic; text-decoration: underline\">Ava Turner</span><span style=\"color: #7fbf7f; text-decoration-color: #7fbf7f; font-weight: bold; font-style: italic\"> acts: [THINK] I need to message Miles Peterson to coordinate our tasks and ensure we're</span>\n",
       "<span style=\"color: #7fbf7f; text-decoration-color: #7fbf7f; font-weight: bold; font-style: italic\">                        &gt; progressing with our work.</span>\n",
       "<span style=\"color: #7fffff; text-decoration-color: #7fffff; font-weight: bold; font-style: italic; text-decoration: underline\">Ava Turner</span><span style=\"color: #7fffff; text-decoration-color: #7fffff; font-weight: bold; font-style: italic\"> --&gt; </span><span style=\"color: #7fffff; text-decoration-color: #7fffff; font-weight: bold; font-style: italic; text-decoration: underline\">Ava Turner</span><span style=\"color: #7fffff; text-decoration-color: #7fffff; font-weight: bold; font-style: italic\">: [THOUGHT] I will now act a bit, and then issue DONE.</span>\n",
       "<span style=\"color: #d77fff; text-decoration-color: #d77fff; font-weight: bold; font-style: italic; text-decoration: underline\">Ava Turner</span><span style=\"color: #d77fff; text-decoration-color: #d77fff; font-weight: bold; font-style: italic\"> acts: [REACH_OUT] </span>\n",
       "<span style=\"color: #7fffff; text-decoration-color: #7fffff; font-weight: bold; font-style: italic; text-decoration: underline\">Ava Turner</span><span style=\"color: #7fffff; text-decoration-color: #7fffff; font-weight: bold; font-style: italic\"> --&gt; </span><span style=\"color: #7fffff; text-decoration-color: #7fffff; font-weight: bold; font-style: italic; text-decoration: underline\">Ava Turner</span><span style=\"color: #7fffff; text-decoration-color: #7fffff; font-weight: bold; font-style: italic\">: [THOUGHT] I will now act a bit, and then issue DONE.</span>\n",
       "<span style=\"color: #7feb7f; text-decoration-color: #7feb7f; font-weight: bold; font-style: italic; text-decoration: underline\">Ava Turner</span><span style=\"color: #7feb7f; text-decoration-color: #7feb7f; font-weight: bold; font-style: italic\"> acts: [TALK] Hi Miles, I hope you're doing well. Let's coordinate on our tasks for the day.</span>\n",
       "<span style=\"color: #7feb7f; text-decoration-color: #7feb7f; font-weight: bold; font-style: italic\">                        &gt; Do you have any updates on your end?</span>\n",
       "<span style=\"color: #7fffff; text-decoration-color: #7fffff; font-weight: bold; font-style: italic; text-decoration: underline\">Ava Turner</span><span style=\"color: #7fffff; text-decoration-color: #7fffff; font-weight: bold; font-style: italic\"> --&gt; </span><span style=\"color: #7fffff; text-decoration-color: #7fffff; font-weight: bold; font-style: italic; text-decoration: underline\">Ava Turner</span><span style=\"color: #7fffff; text-decoration-color: #7fffff; font-weight: bold; font-style: italic\">: [THOUGHT] I will now act a bit, and then issue DONE.</span>\n",
       "<span style=\"color: #e7e7e7; text-decoration-color: #e7e7e7; font-weight: bold; font-style: italic; text-decoration: underline\">Ava Turner</span><span style=\"color: #e7e7e7; text-decoration-color: #e7e7e7; font-weight: bold; font-style: italic\"> acts: [DONE] </span>\n",
       "<span style=\"color: #7fffff; text-decoration-color: #7fffff; font-weight: bold; font-style: italic; text-decoration: underline\">Some Corp Inc.</span><span style=\"color: #7fffff; text-decoration-color: #7fffff; font-weight: bold; font-style: italic\"> --&gt; </span><span style=\"color: #7fffff; text-decoration-color: #7fffff; font-weight: bold; font-style: italic; text-decoration: underline\">Ava Turner</span><span style=\"color: #7fffff; text-decoration-color: #7fffff; font-weight: bold; font-style: italic\">: [SOCIAL] Miles Peterson was successfully reached out, and is now available for</span>\n",
       "<span style=\"color: #7fffff; text-decoration-color: #7fffff; font-weight: bold; font-style: italic\">                            &gt; interaction.</span>\n",
       "<span style=\"color: #7fffff; text-decoration-color: #7fffff; font-weight: bold; font-style: italic; text-decoration: underline\">Miles Peterson</span><span style=\"color: #7fffff; text-decoration-color: #7fffff; font-weight: bold; font-style: italic\"> --&gt; </span><span style=\"color: #7fffff; text-decoration-color: #7fffff; font-weight: bold; font-style: italic; text-decoration: underline\">Ava Turner</span><span style=\"color: #7fffff; text-decoration-color: #7fffff; font-weight: bold; font-style: italic\">: [CONVERSATION] Hi Ava, I'm doing well, thank you. I've been working on refining our </span>\n",
       "<span style=\"color: #7fffff; text-decoration-color: #7fffff; font-weight: bold; font-style: italic\">SEO</span>\n",
       "<span style=\"color: #7fffff; text-decoration-color: #7fffff; font-weight: bold; font-style: italic\">                            &gt; approach for the upcoming campaign, focusing on</span>\n",
       "<span style=\"color: #7fffff; text-decoration-color: #7fffff; font-weight: bold; font-style: italic\">                            &gt; integrating more long-tail keywords into our</span>\n",
       "<span style=\"color: #7fffff; text-decoration-color: #7fffff; font-weight: bold; font-style: italic\">                            &gt; content. I'm also exploring a new content</span>\n",
       "<span style=\"color: #7fffff; text-decoration-color: #7fffff; font-weight: bold; font-style: italic\">                            &gt; personalization tool that could help us tailor our</span>\n",
       "<span style=\"color: #7fffff; text-decoration-color: #7fffff; font-weight: bold; font-style: italic\">                            &gt; messages more effectively to different audience</span>\n",
       "<span style=\"color: #7fffff; text-decoration-color: #7fffff; font-weight: bold; font-style: italic\">                            &gt; segments. How are things on your end? Do you need</span>\n",
       "<span style=\"color: #7fffff; text-decoration-color: #7fffff; font-weight: bold; font-style: italic\">                            &gt; support with any of your tasks?</span>\n",
       "<span style=\"color: #7fffff; text-decoration-color: #7fffff; font-weight: bold; font-style: italic; text-decoration: underline\">Ava Turner</span><span style=\"color: #7fffff; text-decoration-color: #7fffff; font-weight: bold; font-style: italic\"> --&gt; </span><span style=\"color: #7fffff; text-decoration-color: #7fffff; font-weight: bold; font-style: italic; text-decoration: underline\">Ava Turner</span><span style=\"color: #7fffff; text-decoration-color: #7fffff; font-weight: bold; font-style: italic\">: [THOUGHT] I will now act a bit, and then issue DONE.</span>\n",
       "<span style=\"color: #7feb7f; text-decoration-color: #7feb7f; font-weight: bold; font-style: italic; text-decoration: underline\">Ava Turner</span><span style=\"color: #7feb7f; text-decoration-color: #7feb7f; font-weight: bold; font-style: italic\"> acts: [TALK] That sounds great, Miles! I've been analyzing the data from our last campaign</span>\n",
       "<span style=\"color: #7feb7f; text-decoration-color: #7feb7f; font-weight: bold; font-style: italic\">                        &gt; and noticed an uptick in engagement from our email</span>\n",
       "<span style=\"color: #7feb7f; text-decoration-color: #7feb7f; font-weight: bold; font-style: italic\">                        &gt; newsletters. I'm thinking of ways to capitalize on</span>\n",
       "<span style=\"color: #7feb7f; text-decoration-color: #7feb7f; font-weight: bold; font-style: italic\">                        &gt; that. The content personalization tool you mentioned</span>\n",
       "<span style=\"color: #7feb7f; text-decoration-color: #7feb7f; font-weight: bold; font-style: italic\">                        &gt; could be very useful for this. Let's set up a meeting</span>\n",
       "<span style=\"color: #7feb7f; text-decoration-color: #7feb7f; font-weight: bold; font-style: italic\">                        &gt; to discuss how we can integrate it with our current</span>\n",
       "<span style=\"color: #7feb7f; text-decoration-color: #7feb7f; font-weight: bold; font-style: italic\">                        &gt; strategy. Also, I could use your creative input on a</span>\n",
       "<span style=\"color: #7feb7f; text-decoration-color: #7feb7f; font-weight: bold; font-style: italic\">                        &gt; new blog post series I'm planning.</span>\n",
       "<span style=\"color: #7fffff; text-decoration-color: #7fffff; font-weight: bold; font-style: italic; text-decoration: underline\">Ava Turner</span><span style=\"color: #7fffff; text-decoration-color: #7fffff; font-weight: bold; font-style: italic\"> --&gt; </span><span style=\"color: #7fffff; text-decoration-color: #7fffff; font-weight: bold; font-style: italic; text-decoration: underline\">Ava Turner</span><span style=\"color: #7fffff; text-decoration-color: #7fffff; font-weight: bold; font-style: italic\">: [THOUGHT] I will now act a bit, and then issue DONE.</span>\n",
       "<span style=\"color: #e7e7e7; text-decoration-color: #e7e7e7; font-weight: bold; font-style: italic; text-decoration: underline\">Ava Turner</span><span style=\"color: #e7e7e7; text-decoration-color: #e7e7e7; font-weight: bold; font-style: italic\"> acts: [DONE] </span>\n",
       "<span style=\"color: #7fffff; text-decoration-color: #7fffff; font-weight: bold; font-style: italic; text-decoration: underline\">Miles Peterson</span><span style=\"color: #7fffff; text-decoration-color: #7fffff; font-weight: bold; font-style: italic\"> --&gt; </span><span style=\"color: #7fffff; text-decoration-color: #7fffff; font-weight: bold; font-style: italic; text-decoration: underline\">Ava Turner</span><span style=\"color: #7fffff; text-decoration-color: #7fffff; font-weight: bold; font-style: italic\">: [CONVERSATION] That's excellent news about the email newsletters, Ava. I'm glad to </span>\n",
       "<span style=\"color: #7fffff; text-decoration-color: #7fffff; font-weight: bold; font-style: italic\">hear about</span>\n",
       "<span style=\"color: #7fffff; text-decoration-color: #7fffff; font-weight: bold; font-style: italic\">                            &gt; the increased engagement. I agree that a meeting</span>\n",
       "<span style=\"color: #7fffff; text-decoration-color: #7fffff; font-weight: bold; font-style: italic\">                            &gt; would be beneficial for us to align our</span>\n",
       "<span style=\"color: #7fffff; text-decoration-color: #7fffff; font-weight: bold; font-style: italic\">                            &gt; strategies. How about we schedule it for tomorrow</span>\n",
       "<span style=\"color: #7fffff; text-decoration-color: #7fffff; font-weight: bold; font-style: italic\">                            &gt; morning? I'm also excited to hear more about your</span>\n",
       "<span style=\"color: #7fffff; text-decoration-color: #7fffff; font-weight: bold; font-style: italic\">                            &gt; ideas for the new blog post series and would be</span>\n",
       "<span style=\"color: #7fffff; text-decoration-color: #7fffff; font-weight: bold; font-style: italic\">                            &gt; happy to provide my creative input. Let's include</span>\n",
       "<span style=\"color: #7fffff; text-decoration-color: #7fffff; font-weight: bold; font-style: italic\">                            &gt; that in our agenda for the meeting as well.</span>\n",
       "</pre>\n"
      ],
      "text/plain": [
       "\u001b[1;3;4;38;5;51mUSER\u001b[0m\u001b[1;3;38;5;51m --> \u001b[0m\u001b[1;3;4;38;5;51mAva Turner\u001b[0m\u001b[1;3;38;5;51m: \u001b[0m\u001b[1;3;38;5;51m[\u001b[0m\u001b[1;3;38;5;51mCONVERSATION\u001b[0m\u001b[1;3;38;5;51m]\u001b[0m\u001b[1;3;38;5;51m Message each other to get work done.\u001b[0m\n",
       "\u001b[1;2;3;4;38;5;51mAva Turner\u001b[0m\u001b[1;2;3;38;5;51m --> \u001b[0m\u001b[1;2;3;4;38;5;51mAva Turner\u001b[0m\u001b[1;2;3;38;5;51m: \u001b[0m\u001b[1;2;3;38;5;51m[\u001b[0m\u001b[1;2;3;38;5;51mTHOUGHT\u001b[0m\u001b[1;2;3;38;5;51m]\u001b[0m\u001b[1;2;3;38;5;51m I will now act a bit, and then issue DONE.\u001b[0m\n",
       "\u001b[1;2;3;4;32mAva Turner\u001b[0m\u001b[1;2;3;32m acts: \u001b[0m\u001b[1;2;3;32m[\u001b[0m\u001b[1;2;3;32mTHINK\u001b[0m\u001b[1;2;3;32m]\u001b[0m\u001b[1;2;3;32m I need to message Miles Peterson to coordinate our tasks and ensure we're\u001b[0m\n",
       "\u001b[1;2;3;32m                        > progressing with our work.\u001b[0m\n",
       "\u001b[1;2;3;4;38;5;51mAva Turner\u001b[0m\u001b[1;2;3;38;5;51m --> \u001b[0m\u001b[1;2;3;4;38;5;51mAva Turner\u001b[0m\u001b[1;2;3;38;5;51m: \u001b[0m\u001b[1;2;3;38;5;51m[\u001b[0m\u001b[1;2;3;38;5;51mTHOUGHT\u001b[0m\u001b[1;2;3;38;5;51m]\u001b[0m\u001b[1;2;3;38;5;51m I will now act a bit, and then issue DONE.\u001b[0m\n",
       "\u001b[1;2;3;4;38;5;129mAva Turner\u001b[0m\u001b[1;2;3;38;5;129m acts: \u001b[0m\u001b[1;2;3;38;5;129m[\u001b[0m\u001b[1;2;3;38;5;129mREACH_OUT\u001b[0m\u001b[1;2;3;38;5;129m]\u001b[0m\u001b[1;2;3;38;5;129m \u001b[0m\n",
       "\u001b[1;2;3;4;38;5;51mAva Turner\u001b[0m\u001b[1;2;3;38;5;51m --> \u001b[0m\u001b[1;2;3;4;38;5;51mAva Turner\u001b[0m\u001b[1;2;3;38;5;51m: \u001b[0m\u001b[1;2;3;38;5;51m[\u001b[0m\u001b[1;2;3;38;5;51mTHOUGHT\u001b[0m\u001b[1;2;3;38;5;51m]\u001b[0m\u001b[1;2;3;38;5;51m I will now act a bit, and then issue DONE.\u001b[0m\n",
       "\u001b[1;2;3;4;38;5;40mAva Turner\u001b[0m\u001b[1;2;3;38;5;40m acts: \u001b[0m\u001b[1;2;3;38;5;40m[\u001b[0m\u001b[1;2;3;38;5;40mTALK\u001b[0m\u001b[1;2;3;38;5;40m]\u001b[0m\u001b[1;2;3;38;5;40m Hi Miles, I hope you're doing well. Let's coordinate on our tasks for the day.\u001b[0m\n",
       "\u001b[1;2;3;38;5;40m                        > Do you have any updates on your end?\u001b[0m\n",
       "\u001b[1;2;3;4;38;5;51mAva Turner\u001b[0m\u001b[1;2;3;38;5;51m --> \u001b[0m\u001b[1;2;3;4;38;5;51mAva Turner\u001b[0m\u001b[1;2;3;38;5;51m: \u001b[0m\u001b[1;2;3;38;5;51m[\u001b[0m\u001b[1;2;3;38;5;51mTHOUGHT\u001b[0m\u001b[1;2;3;38;5;51m]\u001b[0m\u001b[1;2;3;38;5;51m I will now act a bit, and then issue DONE.\u001b[0m\n",
       "\u001b[1;2;3;4;38;5;252mAva Turner\u001b[0m\u001b[1;2;3;38;5;252m acts: \u001b[0m\u001b[1;2;3;38;5;252m[\u001b[0m\u001b[1;2;3;38;5;252mDONE\u001b[0m\u001b[1;2;3;38;5;252m]\u001b[0m\u001b[1;2;3;38;5;252m \u001b[0m\n",
       "\u001b[1;2;3;4;38;5;51mSome Corp Inc.\u001b[0m\u001b[1;2;3;38;5;51m --> \u001b[0m\u001b[1;2;3;4;38;5;51mAva Turner\u001b[0m\u001b[1;2;3;38;5;51m: \u001b[0m\u001b[1;2;3;38;5;51m[\u001b[0m\u001b[1;2;3;38;5;51mSOCIAL\u001b[0m\u001b[1;2;3;38;5;51m]\u001b[0m\u001b[1;2;3;38;5;51m Miles Peterson was successfully reached out, and is now available for\u001b[0m\n",
       "\u001b[1;2;3;38;5;51m                            > interaction.\u001b[0m\n",
       "\u001b[1;2;3;4;38;5;51mMiles Peterson\u001b[0m\u001b[1;2;3;38;5;51m --> \u001b[0m\u001b[1;2;3;4;38;5;51mAva Turner\u001b[0m\u001b[1;2;3;38;5;51m: \u001b[0m\u001b[1;2;3;38;5;51m[\u001b[0m\u001b[1;2;3;38;5;51mCONVERSATION\u001b[0m\u001b[1;2;3;38;5;51m]\u001b[0m\u001b[1;2;3;38;5;51m Hi Ava, I'm doing well, thank you. I've been working on refining our \u001b[0m\n",
       "\u001b[1;2;3;38;5;51mSEO\u001b[0m\n",
       "\u001b[1;2;3;38;5;51m                            > approach for the upcoming campaign, focusing on\u001b[0m\n",
       "\u001b[1;2;3;38;5;51m                            > integrating more long-tail keywords into our\u001b[0m\n",
       "\u001b[1;2;3;38;5;51m                            > content. I'm also exploring a new content\u001b[0m\n",
       "\u001b[1;2;3;38;5;51m                            > personalization tool that could help us tailor our\u001b[0m\n",
       "\u001b[1;2;3;38;5;51m                            > messages more effectively to different audience\u001b[0m\n",
       "\u001b[1;2;3;38;5;51m                            > segments. How are things on your end? Do you need\u001b[0m\n",
       "\u001b[1;2;3;38;5;51m                            > support with any of your tasks?\u001b[0m\n",
       "\u001b[1;2;3;4;38;5;51mAva Turner\u001b[0m\u001b[1;2;3;38;5;51m --> \u001b[0m\u001b[1;2;3;4;38;5;51mAva Turner\u001b[0m\u001b[1;2;3;38;5;51m: \u001b[0m\u001b[1;2;3;38;5;51m[\u001b[0m\u001b[1;2;3;38;5;51mTHOUGHT\u001b[0m\u001b[1;2;3;38;5;51m]\u001b[0m\u001b[1;2;3;38;5;51m I will now act a bit, and then issue DONE.\u001b[0m\n",
       "\u001b[1;2;3;4;38;5;40mAva Turner\u001b[0m\u001b[1;2;3;38;5;40m acts: \u001b[0m\u001b[1;2;3;38;5;40m[\u001b[0m\u001b[1;2;3;38;5;40mTALK\u001b[0m\u001b[1;2;3;38;5;40m]\u001b[0m\u001b[1;2;3;38;5;40m That sounds great, Miles! I've been analyzing the data from our last campaign\u001b[0m\n",
       "\u001b[1;2;3;38;5;40m                        > and noticed an uptick in engagement from our email\u001b[0m\n",
       "\u001b[1;2;3;38;5;40m                        > newsletters. I'm thinking of ways to capitalize on\u001b[0m\n",
       "\u001b[1;2;3;38;5;40m                        > that. The content personalization tool you mentioned\u001b[0m\n",
       "\u001b[1;2;3;38;5;40m                        > could be very useful for this. Let's set up a meeting\u001b[0m\n",
       "\u001b[1;2;3;38;5;40m                        > to discuss how we can integrate it with our current\u001b[0m\n",
       "\u001b[1;2;3;38;5;40m                        > strategy. Also, I could use your creative input on a\u001b[0m\n",
       "\u001b[1;2;3;38;5;40m                        > new blog post series I'm planning.\u001b[0m\n",
       "\u001b[1;2;3;4;38;5;51mAva Turner\u001b[0m\u001b[1;2;3;38;5;51m --> \u001b[0m\u001b[1;2;3;4;38;5;51mAva Turner\u001b[0m\u001b[1;2;3;38;5;51m: \u001b[0m\u001b[1;2;3;38;5;51m[\u001b[0m\u001b[1;2;3;38;5;51mTHOUGHT\u001b[0m\u001b[1;2;3;38;5;51m]\u001b[0m\u001b[1;2;3;38;5;51m I will now act a bit, and then issue DONE.\u001b[0m\n",
       "\u001b[1;2;3;4;38;5;252mAva Turner\u001b[0m\u001b[1;2;3;38;5;252m acts: \u001b[0m\u001b[1;2;3;38;5;252m[\u001b[0m\u001b[1;2;3;38;5;252mDONE\u001b[0m\u001b[1;2;3;38;5;252m]\u001b[0m\u001b[1;2;3;38;5;252m \u001b[0m\n",
       "\u001b[1;2;3;4;38;5;51mMiles Peterson\u001b[0m\u001b[1;2;3;38;5;51m --> \u001b[0m\u001b[1;2;3;4;38;5;51mAva Turner\u001b[0m\u001b[1;2;3;38;5;51m: \u001b[0m\u001b[1;2;3;38;5;51m[\u001b[0m\u001b[1;2;3;38;5;51mCONVERSATION\u001b[0m\u001b[1;2;3;38;5;51m]\u001b[0m\u001b[1;2;3;38;5;51m That's excellent news about the email newsletters, Ava. I'm glad to \u001b[0m\n",
       "\u001b[1;2;3;38;5;51mhear about\u001b[0m\n",
       "\u001b[1;2;3;38;5;51m                            > the increased engagement. I agree that a meeting\u001b[0m\n",
       "\u001b[1;2;3;38;5;51m                            > would be beneficial for us to align our\u001b[0m\n",
       "\u001b[1;2;3;38;5;51m                            > strategies. How about we schedule it for tomorrow\u001b[0m\n",
       "\u001b[1;2;3;38;5;51m                            > morning? I'm also excited to hear more about your\u001b[0m\n",
       "\u001b[1;2;3;38;5;51m                            > ideas for the new blog post series and would be\u001b[0m\n",
       "\u001b[1;2;3;38;5;51m                            > happy to provide my creative input. Let's include\u001b[0m\n",
       "\u001b[1;2;3;38;5;51m                            > that in our agenda for the meeting as well.\u001b[0m\n"
      ]
     },
     "metadata": {},
     "output_type": "display_data"
    }
   ],
   "source": [
    "people[0].pp_current_interactions()"
   ]
  },
  {
   "cell_type": "code",
   "execution_count": 16,
   "metadata": {},
   "outputs": [],
   "source": [
    "reducer = InteractionResultsReducer()\n",
    "\n",
    "def aux_extract_content(focus_agent: TinyPerson, source_agent:TinyPerson, target_agent:TinyPerson, kind:str, event: str, content: str):\n",
    "\n",
    "    if event == \"TALK\":\n",
    "        author = focus_agent.name\n",
    "    elif event == \"CONVERSATION\":\n",
    "        if source_agent is None:\n",
    "            author = \"USER\"\n",
    "        else:\n",
    "            author = source_agent.name\n",
    "    else:\n",
    "        raise ValueError(f\"Unknown event: {event}\")\n",
    "    \n",
    "    \n",
    "    entry = (author, content)\n",
    "    print(entry)\n",
    "    return entry\n",
    "    \n",
    "\n",
    "\n",
    "reducer.add_reduction_rule(\"TALK\", aux_extract_content)\n",
    "reducer.add_reduction_rule(\"CONVERSATION\", aux_extract_content)"
   ]
  },
  {
   "cell_type": "markdown",
   "metadata": {},
   "source": [
    "Finally, we obtain the dataframe with the data and save it to a `.csv`, for later use in other applications."
   ]
  },
  {
   "cell_type": "code",
   "execution_count": 17,
   "metadata": {},
   "outputs": [
    {
     "name": "stdout",
     "output_type": "stream",
     "text": [
      "('USER', 'Message each other to get work done.')\n",
      "('Ava Turner', \"Hi Miles, I hope you're doing well. Let's coordinate on our tasks for the day. Do you have any updates on your end?\")\n",
      "('Miles Peterson', \"Hi Ava, I'm doing well, thank you. I've been working on refining our SEO approach for the upcoming campaign, focusing on integrating more long-tail keywords into our content. I'm also exploring a new content personalization tool that could help us tailor our messages more effectively to different audience segments. How are things on your end? Do you need support with any of your tasks?\")\n",
      "('Ava Turner', \"That sounds great, Miles! I've been analyzing the data from our last campaign and noticed an uptick in engagement from our email newsletters. I'm thinking of ways to capitalize on that. The content personalization tool you mentioned could be very useful for this. Let's set up a meeting to discuss how we can integrate it with our current strategy. Also, I could use your creative input on a new blog post series I'm planning.\")\n",
      "('Miles Peterson', \"That's excellent news about the email newsletters, Ava. I'm glad to hear about the increased engagement. I agree that a meeting would be beneficial for us to align our strategies. How about we schedule it for tomorrow morning? I'm also excited to hear more about your ideas for the new blog post series and would be happy to provide my creative input. Let's include that in our agenda for the meeting as well.\")\n"
     ]
    },
    {
     "data": {
      "text/html": [
       "<div>\n",
       "<style scoped>\n",
       "    .dataframe tbody tr th:only-of-type {\n",
       "        vertical-align: middle;\n",
       "    }\n",
       "\n",
       "    .dataframe tbody tr th {\n",
       "        vertical-align: top;\n",
       "    }\n",
       "\n",
       "    .dataframe thead th {\n",
       "        text-align: right;\n",
       "    }\n",
       "</style>\n",
       "<table border=\"1\" class=\"dataframe\">\n",
       "  <thead>\n",
       "    <tr style=\"text-align: right;\">\n",
       "      <th></th>\n",
       "      <th>author</th>\n",
       "      <th>content</th>\n",
       "    </tr>\n",
       "  </thead>\n",
       "  <tbody>\n",
       "    <tr>\n",
       "      <th>0</th>\n",
       "      <td>USER</td>\n",
       "      <td>Message each other to get work done.</td>\n",
       "    </tr>\n",
       "    <tr>\n",
       "      <th>1</th>\n",
       "      <td>Ava Turner</td>\n",
       "      <td>Hi Miles, I hope you're doing well. Let's coor...</td>\n",
       "    </tr>\n",
       "    <tr>\n",
       "      <th>2</th>\n",
       "      <td>Miles Peterson</td>\n",
       "      <td>Hi Ava, I'm doing well, thank you. I've been w...</td>\n",
       "    </tr>\n",
       "    <tr>\n",
       "      <th>3</th>\n",
       "      <td>Ava Turner</td>\n",
       "      <td>That sounds great, Miles! I've been analyzing ...</td>\n",
       "    </tr>\n",
       "    <tr>\n",
       "      <th>4</th>\n",
       "      <td>Miles Peterson</td>\n",
       "      <td>That's excellent news about the email newslett...</td>\n",
       "    </tr>\n",
       "  </tbody>\n",
       "</table>\n",
       "</div>"
      ],
      "text/plain": [
       "           author                                            content\n",
       "0            USER               Message each other to get work done.\n",
       "1      Ava Turner  Hi Miles, I hope you're doing well. Let's coor...\n",
       "2  Miles Peterson  Hi Ava, I'm doing well, thank you. I've been w...\n",
       "3      Ava Turner  That sounds great, Miles! I've been analyzing ...\n",
       "4  Miles Peterson  That's excellent news about the email newslett..."
      ]
     },
     "execution_count": 17,
     "metadata": {},
     "output_type": "execute_result"
    }
   ],
   "source": [
    "df = reducer.reduce_agent_to_dataframe(people[0], column_names=[\"author\", \"content\"])\n",
    "df"
   ]
  },
  {
   "cell_type": "code",
   "execution_count": 22,
   "metadata": {},
   "outputs": [],
   "source": [
    "df.to_csv(\"../data/extractions/synthetic_data_generation.out.csv\", index=False)"
   ]
  }
 ],
 "metadata": {
  "kernelspec": {
   "display_name": "base",
   "language": "python",
   "name": "python3"
  },
  "language_info": {
   "codemirror_mode": {
    "name": "ipython",
    "version": 3
   },
   "file_extension": ".py",
   "mimetype": "text/x-python",
   "name": "python",
   "nbconvert_exporter": "python",
   "pygments_lexer": "ipython3",
   "version": "3.10.13"
  },
  "orig_nbformat": 4
 },
 "nbformat": 4,
 "nbformat_minor": 2
}
